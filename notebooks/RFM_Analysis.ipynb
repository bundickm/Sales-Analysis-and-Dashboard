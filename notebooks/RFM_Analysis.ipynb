{
  "nbformat": 4,
  "nbformat_minor": 0,
  "metadata": {
    "orig_nbformat": 2,
    "file_extension": ".py",
    "mimetype": "text/x-python",
    "name": "python",
    "npconvert_exporter": "python",
    "pygments_lexer": "ipython3",
    "version": 3,
    "colab": {
      "name": "RFM_Analysis.ipynb",
      "provenance": [],
      "include_colab_link": true
    },
    "kernelspec": {
      "name": "python3",
      "display_name": "Python 3"
    }
  },
  "cells": [
    {
      "cell_type": "markdown",
      "metadata": {
        "id": "view-in-github",
        "colab_type": "text"
      },
      "source": [
        "<a href=\"https://colab.research.google.com/github/bundickm/Sales-Analysis-and-Dashboard/blob/master/RFM_Analysis.ipynb\" target=\"_parent\"><img src=\"https://colab.research.google.com/assets/colab-badge.svg\" alt=\"Open In Colab\"/></a>"
      ]
    },
    {
      "cell_type": "code",
      "metadata": {
        "id": "54mM2nRs7eQk",
        "colab_type": "code",
        "outputId": "3c0e2789-9671-4a4c-b08a-c3fc182d7c86",
        "colab": {
          "base_uri": "https://localhost:8080/",
          "height": 418
        }
      },
      "source": [
        "!pip install matplotlib==3.1.0"
      ],
      "execution_count": 1,
      "outputs": [
        {
          "output_type": "stream",
          "text": [
            "Collecting matplotlib==3.1.0\n",
            "\u001b[?25l  Downloading https://files.pythonhosted.org/packages/da/83/d989ee20c78117c737ab40e0318ea221f1aed4e3f5a40b4f93541b369b93/matplotlib-3.1.0-cp36-cp36m-manylinux1_x86_64.whl (13.1MB)\n",
            "\u001b[K     |████████████████████████████████| 13.1MB 177kB/s \n",
            "\u001b[?25hRequirement already satisfied: kiwisolver>=1.0.1 in /usr/local/lib/python3.6/dist-packages (from matplotlib==3.1.0) (1.1.0)\n",
            "Requirement already satisfied: numpy>=1.11 in /usr/local/lib/python3.6/dist-packages (from matplotlib==3.1.0) (1.17.3)\n",
            "Requirement already satisfied: pyparsing!=2.0.4,!=2.1.2,!=2.1.6,>=2.0.1 in /usr/local/lib/python3.6/dist-packages (from matplotlib==3.1.0) (2.4.2)\n",
            "Requirement already satisfied: cycler>=0.10 in /usr/local/lib/python3.6/dist-packages (from matplotlib==3.1.0) (0.10.0)\n",
            "Requirement already satisfied: python-dateutil>=2.1 in /usr/local/lib/python3.6/dist-packages (from matplotlib==3.1.0) (2.6.1)\n",
            "Requirement already satisfied: setuptools in /usr/local/lib/python3.6/dist-packages (from kiwisolver>=1.0.1->matplotlib==3.1.0) (41.4.0)\n",
            "Requirement already satisfied: six in /usr/local/lib/python3.6/dist-packages (from cycler>=0.10->matplotlib==3.1.0) (1.12.0)\n",
            "\u001b[31mERROR: albumentations 0.1.12 has requirement imgaug<0.2.7,>=0.2.5, but you'll have imgaug 0.2.9 which is incompatible.\u001b[0m\n",
            "Installing collected packages: matplotlib\n",
            "  Found existing installation: matplotlib 3.1.1\n",
            "    Uninstalling matplotlib-3.1.1:\n",
            "      Successfully uninstalled matplotlib-3.1.1\n",
            "Successfully installed matplotlib-3.1.0\n"
          ],
          "name": "stdout"
        },
        {
          "output_type": "display_data",
          "data": {
            "application/vnd.colab-display-data+json": {
              "pip_warning": {
                "packages": [
                  "matplotlib",
                  "mpl_toolkits"
                ]
              }
            }
          },
          "metadata": {
            "tags": []
          }
        }
      ]
    },
    {
      "cell_type": "code",
      "metadata": {
        "id": "2z2PB3eS6XwP",
        "colab_type": "code",
        "colab": {}
      },
      "source": [
        "import numpy as np\n",
        "import pandas as pd\n",
        "import matplotlib.pyplot as plt\n",
        "from sklearn.preprocessing import StandardScaler\n",
        "from sklearn.cluster import KMeans\n",
        "import seaborn as sns\n",
        "import datetime as dt\n",
        "import warnings\n",
        "\n",
        "warnings.filterwarnings('ignore')\n",
        "pd.set_option('display.max_columns', None)"
      ],
      "execution_count": 0,
      "outputs": []
    },
    {
      "cell_type": "code",
      "metadata": {
        "id": "kX4vQZzE6Xwb",
        "colab_type": "code",
        "outputId": "e68a0b50-e43f-4770-f708-2c55848f0887",
        "colab": {
          "base_uri": "https://localhost:8080/",
          "height": 35
        }
      },
      "source": [
        "df = pd.read_csv('https://raw.githubusercontent.com/bundickm/Sales-Analysis-and-Dashboard/master/sales_data_sample.csv', encoding='unicode_escape')\n",
        "df.shape"
      ],
      "execution_count": 3,
      "outputs": [
        {
          "output_type": "execute_result",
          "data": {
            "text/plain": [
              "(2823, 25)"
            ]
          },
          "metadata": {
            "tags": []
          },
          "execution_count": 3
        }
      ]
    },
    {
      "cell_type": "code",
      "metadata": {
        "id": "mkYH6sbp6Xwm",
        "colab_type": "code",
        "outputId": "81373900-3494-4fdf-ae61-76a86a4dcd5f",
        "colab": {
          "base_uri": "https://localhost:8080/",
          "height": 330
        }
      },
      "source": [
        "df.head()"
      ],
      "execution_count": 4,
      "outputs": [
        {
          "output_type": "execute_result",
          "data": {
            "text/html": [
              "<div>\n",
              "<style scoped>\n",
              "    .dataframe tbody tr th:only-of-type {\n",
              "        vertical-align: middle;\n",
              "    }\n",
              "\n",
              "    .dataframe tbody tr th {\n",
              "        vertical-align: top;\n",
              "    }\n",
              "\n",
              "    .dataframe thead th {\n",
              "        text-align: right;\n",
              "    }\n",
              "</style>\n",
              "<table border=\"1\" class=\"dataframe\">\n",
              "  <thead>\n",
              "    <tr style=\"text-align: right;\">\n",
              "      <th></th>\n",
              "      <th>ORDERNUMBER</th>\n",
              "      <th>QUANTITYORDERED</th>\n",
              "      <th>PRICEEACH</th>\n",
              "      <th>ORDERLINENUMBER</th>\n",
              "      <th>SALES</th>\n",
              "      <th>ORDERDATE</th>\n",
              "      <th>STATUS</th>\n",
              "      <th>QTR_ID</th>\n",
              "      <th>MONTH_ID</th>\n",
              "      <th>YEAR_ID</th>\n",
              "      <th>PRODUCTLINE</th>\n",
              "      <th>MSRP</th>\n",
              "      <th>PRODUCTCODE</th>\n",
              "      <th>CUSTOMERNAME</th>\n",
              "      <th>PHONE</th>\n",
              "      <th>ADDRESSLINE1</th>\n",
              "      <th>ADDRESSLINE2</th>\n",
              "      <th>CITY</th>\n",
              "      <th>STATE</th>\n",
              "      <th>POSTALCODE</th>\n",
              "      <th>COUNTRY</th>\n",
              "      <th>TERRITORY</th>\n",
              "      <th>CONTACTLASTNAME</th>\n",
              "      <th>CONTACTFIRSTNAME</th>\n",
              "      <th>DEALSIZE</th>\n",
              "    </tr>\n",
              "  </thead>\n",
              "  <tbody>\n",
              "    <tr>\n",
              "      <th>0</th>\n",
              "      <td>10107</td>\n",
              "      <td>30</td>\n",
              "      <td>95.70</td>\n",
              "      <td>2</td>\n",
              "      <td>2871.00</td>\n",
              "      <td>2/24/2003 0:00</td>\n",
              "      <td>Shipped</td>\n",
              "      <td>1</td>\n",
              "      <td>2</td>\n",
              "      <td>2003</td>\n",
              "      <td>Motorcycles</td>\n",
              "      <td>95</td>\n",
              "      <td>S10_1678</td>\n",
              "      <td>Land of Toys Inc.</td>\n",
              "      <td>2125557818</td>\n",
              "      <td>897 Long Airport Avenue</td>\n",
              "      <td>NaN</td>\n",
              "      <td>NYC</td>\n",
              "      <td>NY</td>\n",
              "      <td>10022</td>\n",
              "      <td>USA</td>\n",
              "      <td>NaN</td>\n",
              "      <td>Yu</td>\n",
              "      <td>Kwai</td>\n",
              "      <td>Small</td>\n",
              "    </tr>\n",
              "    <tr>\n",
              "      <th>1</th>\n",
              "      <td>10121</td>\n",
              "      <td>34</td>\n",
              "      <td>81.35</td>\n",
              "      <td>5</td>\n",
              "      <td>2765.90</td>\n",
              "      <td>5/7/2003 0:00</td>\n",
              "      <td>Shipped</td>\n",
              "      <td>2</td>\n",
              "      <td>5</td>\n",
              "      <td>2003</td>\n",
              "      <td>Motorcycles</td>\n",
              "      <td>95</td>\n",
              "      <td>S10_1678</td>\n",
              "      <td>Reims Collectables</td>\n",
              "      <td>26.47.1555</td>\n",
              "      <td>59 rue de l'Abbaye</td>\n",
              "      <td>NaN</td>\n",
              "      <td>Reims</td>\n",
              "      <td>NaN</td>\n",
              "      <td>51100</td>\n",
              "      <td>France</td>\n",
              "      <td>EMEA</td>\n",
              "      <td>Henriot</td>\n",
              "      <td>Paul</td>\n",
              "      <td>Small</td>\n",
              "    </tr>\n",
              "    <tr>\n",
              "      <th>2</th>\n",
              "      <td>10134</td>\n",
              "      <td>41</td>\n",
              "      <td>94.74</td>\n",
              "      <td>2</td>\n",
              "      <td>3884.34</td>\n",
              "      <td>7/1/2003 0:00</td>\n",
              "      <td>Shipped</td>\n",
              "      <td>3</td>\n",
              "      <td>7</td>\n",
              "      <td>2003</td>\n",
              "      <td>Motorcycles</td>\n",
              "      <td>95</td>\n",
              "      <td>S10_1678</td>\n",
              "      <td>Lyon Souveniers</td>\n",
              "      <td>+33 1 46 62 7555</td>\n",
              "      <td>27 rue du Colonel Pierre Avia</td>\n",
              "      <td>NaN</td>\n",
              "      <td>Paris</td>\n",
              "      <td>NaN</td>\n",
              "      <td>75508</td>\n",
              "      <td>France</td>\n",
              "      <td>EMEA</td>\n",
              "      <td>Da Cunha</td>\n",
              "      <td>Daniel</td>\n",
              "      <td>Medium</td>\n",
              "    </tr>\n",
              "    <tr>\n",
              "      <th>3</th>\n",
              "      <td>10145</td>\n",
              "      <td>45</td>\n",
              "      <td>83.26</td>\n",
              "      <td>6</td>\n",
              "      <td>3746.70</td>\n",
              "      <td>8/25/2003 0:00</td>\n",
              "      <td>Shipped</td>\n",
              "      <td>3</td>\n",
              "      <td>8</td>\n",
              "      <td>2003</td>\n",
              "      <td>Motorcycles</td>\n",
              "      <td>95</td>\n",
              "      <td>S10_1678</td>\n",
              "      <td>Toys4GrownUps.com</td>\n",
              "      <td>6265557265</td>\n",
              "      <td>78934 Hillside Dr.</td>\n",
              "      <td>NaN</td>\n",
              "      <td>Pasadena</td>\n",
              "      <td>CA</td>\n",
              "      <td>90003</td>\n",
              "      <td>USA</td>\n",
              "      <td>NaN</td>\n",
              "      <td>Young</td>\n",
              "      <td>Julie</td>\n",
              "      <td>Medium</td>\n",
              "    </tr>\n",
              "    <tr>\n",
              "      <th>4</th>\n",
              "      <td>10159</td>\n",
              "      <td>49</td>\n",
              "      <td>100.00</td>\n",
              "      <td>14</td>\n",
              "      <td>5205.27</td>\n",
              "      <td>10/10/2003 0:00</td>\n",
              "      <td>Shipped</td>\n",
              "      <td>4</td>\n",
              "      <td>10</td>\n",
              "      <td>2003</td>\n",
              "      <td>Motorcycles</td>\n",
              "      <td>95</td>\n",
              "      <td>S10_1678</td>\n",
              "      <td>Corporate Gift Ideas Co.</td>\n",
              "      <td>6505551386</td>\n",
              "      <td>7734 Strong St.</td>\n",
              "      <td>NaN</td>\n",
              "      <td>San Francisco</td>\n",
              "      <td>CA</td>\n",
              "      <td>NaN</td>\n",
              "      <td>USA</td>\n",
              "      <td>NaN</td>\n",
              "      <td>Brown</td>\n",
              "      <td>Julie</td>\n",
              "      <td>Medium</td>\n",
              "    </tr>\n",
              "  </tbody>\n",
              "</table>\n",
              "</div>"
            ],
            "text/plain": [
              "   ORDERNUMBER  QUANTITYORDERED  PRICEEACH  ORDERLINENUMBER    SALES  \\\n",
              "0        10107               30      95.70                2  2871.00   \n",
              "1        10121               34      81.35                5  2765.90   \n",
              "2        10134               41      94.74                2  3884.34   \n",
              "3        10145               45      83.26                6  3746.70   \n",
              "4        10159               49     100.00               14  5205.27   \n",
              "\n",
              "         ORDERDATE   STATUS  QTR_ID  MONTH_ID  YEAR_ID  PRODUCTLINE  MSRP  \\\n",
              "0   2/24/2003 0:00  Shipped       1         2     2003  Motorcycles    95   \n",
              "1    5/7/2003 0:00  Shipped       2         5     2003  Motorcycles    95   \n",
              "2    7/1/2003 0:00  Shipped       3         7     2003  Motorcycles    95   \n",
              "3   8/25/2003 0:00  Shipped       3         8     2003  Motorcycles    95   \n",
              "4  10/10/2003 0:00  Shipped       4        10     2003  Motorcycles    95   \n",
              "\n",
              "  PRODUCTCODE              CUSTOMERNAME             PHONE  \\\n",
              "0    S10_1678         Land of Toys Inc.        2125557818   \n",
              "1    S10_1678        Reims Collectables        26.47.1555   \n",
              "2    S10_1678           Lyon Souveniers  +33 1 46 62 7555   \n",
              "3    S10_1678         Toys4GrownUps.com        6265557265   \n",
              "4    S10_1678  Corporate Gift Ideas Co.        6505551386   \n",
              "\n",
              "                    ADDRESSLINE1 ADDRESSLINE2           CITY STATE POSTALCODE  \\\n",
              "0        897 Long Airport Avenue          NaN            NYC    NY      10022   \n",
              "1             59 rue de l'Abbaye          NaN          Reims   NaN      51100   \n",
              "2  27 rue du Colonel Pierre Avia          NaN          Paris   NaN      75508   \n",
              "3             78934 Hillside Dr.          NaN       Pasadena    CA      90003   \n",
              "4                7734 Strong St.          NaN  San Francisco    CA        NaN   \n",
              "\n",
              "  COUNTRY TERRITORY CONTACTLASTNAME CONTACTFIRSTNAME DEALSIZE  \n",
              "0     USA       NaN              Yu             Kwai    Small  \n",
              "1  France      EMEA         Henriot             Paul    Small  \n",
              "2  France      EMEA        Da Cunha           Daniel   Medium  \n",
              "3     USA       NaN           Young            Julie   Medium  \n",
              "4     USA       NaN           Brown            Julie   Medium  "
            ]
          },
          "metadata": {
            "tags": []
          },
          "execution_count": 4
        }
      ]
    },
    {
      "cell_type": "code",
      "metadata": {
        "id": "F8R42loY6Xwv",
        "colab_type": "code",
        "outputId": "3a92d359-913e-4143-a687-5b8844e1e1b5",
        "colab": {
          "base_uri": "https://localhost:8080/",
          "height": 563
        }
      },
      "source": [
        "df.info()"
      ],
      "execution_count": 5,
      "outputs": [
        {
          "output_type": "stream",
          "text": [
            "<class 'pandas.core.frame.DataFrame'>\n",
            "RangeIndex: 2823 entries, 0 to 2822\n",
            "Data columns (total 25 columns):\n",
            "ORDERNUMBER         2823 non-null int64\n",
            "QUANTITYORDERED     2823 non-null int64\n",
            "PRICEEACH           2823 non-null float64\n",
            "ORDERLINENUMBER     2823 non-null int64\n",
            "SALES               2823 non-null float64\n",
            "ORDERDATE           2823 non-null object\n",
            "STATUS              2823 non-null object\n",
            "QTR_ID              2823 non-null int64\n",
            "MONTH_ID            2823 non-null int64\n",
            "YEAR_ID             2823 non-null int64\n",
            "PRODUCTLINE         2823 non-null object\n",
            "MSRP                2823 non-null int64\n",
            "PRODUCTCODE         2823 non-null object\n",
            "CUSTOMERNAME        2823 non-null object\n",
            "PHONE               2823 non-null object\n",
            "ADDRESSLINE1        2823 non-null object\n",
            "ADDRESSLINE2        302 non-null object\n",
            "CITY                2823 non-null object\n",
            "STATE               1337 non-null object\n",
            "POSTALCODE          2747 non-null object\n",
            "COUNTRY             2823 non-null object\n",
            "TERRITORY           1749 non-null object\n",
            "CONTACTLASTNAME     2823 non-null object\n",
            "CONTACTFIRSTNAME    2823 non-null object\n",
            "DEALSIZE            2823 non-null object\n",
            "dtypes: float64(2), int64(7), object(16)\n",
            "memory usage: 551.5+ KB\n"
          ],
          "name": "stdout"
        }
      ]
    },
    {
      "cell_type": "code",
      "metadata": {
        "id": "4BT3umaT6Xw8",
        "colab_type": "code",
        "outputId": "15f361d0-86d6-48aa-aaad-7b476a018e0e",
        "colab": {
          "base_uri": "https://localhost:8080/",
          "height": 300
        }
      },
      "source": [
        "df.describe()"
      ],
      "execution_count": 6,
      "outputs": [
        {
          "output_type": "execute_result",
          "data": {
            "text/html": [
              "<div>\n",
              "<style scoped>\n",
              "    .dataframe tbody tr th:only-of-type {\n",
              "        vertical-align: middle;\n",
              "    }\n",
              "\n",
              "    .dataframe tbody tr th {\n",
              "        vertical-align: top;\n",
              "    }\n",
              "\n",
              "    .dataframe thead th {\n",
              "        text-align: right;\n",
              "    }\n",
              "</style>\n",
              "<table border=\"1\" class=\"dataframe\">\n",
              "  <thead>\n",
              "    <tr style=\"text-align: right;\">\n",
              "      <th></th>\n",
              "      <th>ORDERNUMBER</th>\n",
              "      <th>QUANTITYORDERED</th>\n",
              "      <th>PRICEEACH</th>\n",
              "      <th>ORDERLINENUMBER</th>\n",
              "      <th>SALES</th>\n",
              "      <th>QTR_ID</th>\n",
              "      <th>MONTH_ID</th>\n",
              "      <th>YEAR_ID</th>\n",
              "      <th>MSRP</th>\n",
              "    </tr>\n",
              "  </thead>\n",
              "  <tbody>\n",
              "    <tr>\n",
              "      <th>count</th>\n",
              "      <td>2823.000000</td>\n",
              "      <td>2823.000000</td>\n",
              "      <td>2823.000000</td>\n",
              "      <td>2823.000000</td>\n",
              "      <td>2823.000000</td>\n",
              "      <td>2823.000000</td>\n",
              "      <td>2823.000000</td>\n",
              "      <td>2823.00000</td>\n",
              "      <td>2823.000000</td>\n",
              "    </tr>\n",
              "    <tr>\n",
              "      <th>mean</th>\n",
              "      <td>10258.725115</td>\n",
              "      <td>35.092809</td>\n",
              "      <td>83.658544</td>\n",
              "      <td>6.466171</td>\n",
              "      <td>3553.889072</td>\n",
              "      <td>2.717676</td>\n",
              "      <td>7.092455</td>\n",
              "      <td>2003.81509</td>\n",
              "      <td>100.715551</td>\n",
              "    </tr>\n",
              "    <tr>\n",
              "      <th>std</th>\n",
              "      <td>92.085478</td>\n",
              "      <td>9.741443</td>\n",
              "      <td>20.174277</td>\n",
              "      <td>4.225841</td>\n",
              "      <td>1841.865106</td>\n",
              "      <td>1.203878</td>\n",
              "      <td>3.656633</td>\n",
              "      <td>0.69967</td>\n",
              "      <td>40.187912</td>\n",
              "    </tr>\n",
              "    <tr>\n",
              "      <th>min</th>\n",
              "      <td>10100.000000</td>\n",
              "      <td>6.000000</td>\n",
              "      <td>26.880000</td>\n",
              "      <td>1.000000</td>\n",
              "      <td>482.130000</td>\n",
              "      <td>1.000000</td>\n",
              "      <td>1.000000</td>\n",
              "      <td>2003.00000</td>\n",
              "      <td>33.000000</td>\n",
              "    </tr>\n",
              "    <tr>\n",
              "      <th>25%</th>\n",
              "      <td>10180.000000</td>\n",
              "      <td>27.000000</td>\n",
              "      <td>68.860000</td>\n",
              "      <td>3.000000</td>\n",
              "      <td>2203.430000</td>\n",
              "      <td>2.000000</td>\n",
              "      <td>4.000000</td>\n",
              "      <td>2003.00000</td>\n",
              "      <td>68.000000</td>\n",
              "    </tr>\n",
              "    <tr>\n",
              "      <th>50%</th>\n",
              "      <td>10262.000000</td>\n",
              "      <td>35.000000</td>\n",
              "      <td>95.700000</td>\n",
              "      <td>6.000000</td>\n",
              "      <td>3184.800000</td>\n",
              "      <td>3.000000</td>\n",
              "      <td>8.000000</td>\n",
              "      <td>2004.00000</td>\n",
              "      <td>99.000000</td>\n",
              "    </tr>\n",
              "    <tr>\n",
              "      <th>75%</th>\n",
              "      <td>10333.500000</td>\n",
              "      <td>43.000000</td>\n",
              "      <td>100.000000</td>\n",
              "      <td>9.000000</td>\n",
              "      <td>4508.000000</td>\n",
              "      <td>4.000000</td>\n",
              "      <td>11.000000</td>\n",
              "      <td>2004.00000</td>\n",
              "      <td>124.000000</td>\n",
              "    </tr>\n",
              "    <tr>\n",
              "      <th>max</th>\n",
              "      <td>10425.000000</td>\n",
              "      <td>97.000000</td>\n",
              "      <td>100.000000</td>\n",
              "      <td>18.000000</td>\n",
              "      <td>14082.800000</td>\n",
              "      <td>4.000000</td>\n",
              "      <td>12.000000</td>\n",
              "      <td>2005.00000</td>\n",
              "      <td>214.000000</td>\n",
              "    </tr>\n",
              "  </tbody>\n",
              "</table>\n",
              "</div>"
            ],
            "text/plain": [
              "        ORDERNUMBER  QUANTITYORDERED    PRICEEACH  ORDERLINENUMBER  \\\n",
              "count   2823.000000      2823.000000  2823.000000      2823.000000   \n",
              "mean   10258.725115        35.092809    83.658544         6.466171   \n",
              "std       92.085478         9.741443    20.174277         4.225841   \n",
              "min    10100.000000         6.000000    26.880000         1.000000   \n",
              "25%    10180.000000        27.000000    68.860000         3.000000   \n",
              "50%    10262.000000        35.000000    95.700000         6.000000   \n",
              "75%    10333.500000        43.000000   100.000000         9.000000   \n",
              "max    10425.000000        97.000000   100.000000        18.000000   \n",
              "\n",
              "              SALES       QTR_ID     MONTH_ID     YEAR_ID         MSRP  \n",
              "count   2823.000000  2823.000000  2823.000000  2823.00000  2823.000000  \n",
              "mean    3553.889072     2.717676     7.092455  2003.81509   100.715551  \n",
              "std     1841.865106     1.203878     3.656633     0.69967    40.187912  \n",
              "min      482.130000     1.000000     1.000000  2003.00000    33.000000  \n",
              "25%     2203.430000     2.000000     4.000000  2003.00000    68.000000  \n",
              "50%     3184.800000     3.000000     8.000000  2004.00000    99.000000  \n",
              "75%     4508.000000     4.000000    11.000000  2004.00000   124.000000  \n",
              "max    14082.800000     4.000000    12.000000  2005.00000   214.000000  "
            ]
          },
          "metadata": {
            "tags": []
          },
          "execution_count": 6
        }
      ]
    },
    {
      "cell_type": "markdown",
      "metadata": {
        "id": "CHdcCtV06XxN",
        "colab_type": "text"
      },
      "source": [
        "# RFM Analysis"
      ]
    },
    {
      "cell_type": "code",
      "metadata": {
        "id": "BnOBLL8X6XxR",
        "colab_type": "code",
        "outputId": "e77d1575-965a-4d7a-a2cb-82ac77d4be5e",
        "colab": {
          "base_uri": "https://localhost:8080/",
          "height": 224
        }
      },
      "source": [
        "rfm_df = df[['CUSTOMERNAME', 'ORDERNUMBER', 'ORDERDATE', 'SALES']]\n",
        "rfm_df['ORDERDATE'] = pd.to_datetime(rfm_df['ORDERDATE'])\n",
        "print('Shape:', rfm_df.shape)\n",
        "rfm_df.head()"
      ],
      "execution_count": 7,
      "outputs": [
        {
          "output_type": "stream",
          "text": [
            "Shape: (2823, 4)\n"
          ],
          "name": "stdout"
        },
        {
          "output_type": "execute_result",
          "data": {
            "text/html": [
              "<div>\n",
              "<style scoped>\n",
              "    .dataframe tbody tr th:only-of-type {\n",
              "        vertical-align: middle;\n",
              "    }\n",
              "\n",
              "    .dataframe tbody tr th {\n",
              "        vertical-align: top;\n",
              "    }\n",
              "\n",
              "    .dataframe thead th {\n",
              "        text-align: right;\n",
              "    }\n",
              "</style>\n",
              "<table border=\"1\" class=\"dataframe\">\n",
              "  <thead>\n",
              "    <tr style=\"text-align: right;\">\n",
              "      <th></th>\n",
              "      <th>CUSTOMERNAME</th>\n",
              "      <th>ORDERNUMBER</th>\n",
              "      <th>ORDERDATE</th>\n",
              "      <th>SALES</th>\n",
              "    </tr>\n",
              "  </thead>\n",
              "  <tbody>\n",
              "    <tr>\n",
              "      <th>0</th>\n",
              "      <td>Land of Toys Inc.</td>\n",
              "      <td>10107</td>\n",
              "      <td>2003-02-24</td>\n",
              "      <td>2871.00</td>\n",
              "    </tr>\n",
              "    <tr>\n",
              "      <th>1</th>\n",
              "      <td>Reims Collectables</td>\n",
              "      <td>10121</td>\n",
              "      <td>2003-05-07</td>\n",
              "      <td>2765.90</td>\n",
              "    </tr>\n",
              "    <tr>\n",
              "      <th>2</th>\n",
              "      <td>Lyon Souveniers</td>\n",
              "      <td>10134</td>\n",
              "      <td>2003-07-01</td>\n",
              "      <td>3884.34</td>\n",
              "    </tr>\n",
              "    <tr>\n",
              "      <th>3</th>\n",
              "      <td>Toys4GrownUps.com</td>\n",
              "      <td>10145</td>\n",
              "      <td>2003-08-25</td>\n",
              "      <td>3746.70</td>\n",
              "    </tr>\n",
              "    <tr>\n",
              "      <th>4</th>\n",
              "      <td>Corporate Gift Ideas Co.</td>\n",
              "      <td>10159</td>\n",
              "      <td>2003-10-10</td>\n",
              "      <td>5205.27</td>\n",
              "    </tr>\n",
              "  </tbody>\n",
              "</table>\n",
              "</div>"
            ],
            "text/plain": [
              "               CUSTOMERNAME  ORDERNUMBER  ORDERDATE    SALES\n",
              "0         Land of Toys Inc.        10107 2003-02-24  2871.00\n",
              "1        Reims Collectables        10121 2003-05-07  2765.90\n",
              "2           Lyon Souveniers        10134 2003-07-01  3884.34\n",
              "3         Toys4GrownUps.com        10145 2003-08-25  3746.70\n",
              "4  Corporate Gift Ideas Co.        10159 2003-10-10  5205.27"
            ]
          },
          "metadata": {
            "tags": []
          },
          "execution_count": 7
        }
      ]
    },
    {
      "cell_type": "code",
      "metadata": {
        "id": "QCTZygdu6XxY",
        "colab_type": "code",
        "outputId": "fc0d7e2a-ec5b-45dc-8304-3241162b32b0",
        "colab": {
          "base_uri": "https://localhost:8080/",
          "height": 181
        }
      },
      "source": [
        "rfm_df.info()"
      ],
      "execution_count": 8,
      "outputs": [
        {
          "output_type": "stream",
          "text": [
            "<class 'pandas.core.frame.DataFrame'>\n",
            "RangeIndex: 2823 entries, 0 to 2822\n",
            "Data columns (total 4 columns):\n",
            "CUSTOMERNAME    2823 non-null object\n",
            "ORDERNUMBER     2823 non-null int64\n",
            "ORDERDATE       2823 non-null datetime64[ns]\n",
            "SALES           2823 non-null float64\n",
            "dtypes: datetime64[ns](1), float64(1), int64(1), object(1)\n",
            "memory usage: 88.3+ KB\n"
          ],
          "name": "stdout"
        }
      ]
    },
    {
      "cell_type": "code",
      "metadata": {
        "id": "N6wXxTi66Xxs",
        "colab_type": "code",
        "colab": {}
      },
      "source": [
        "NOW = rfm_df['ORDERDATE'].max()"
      ],
      "execution_count": 0,
      "outputs": []
    },
    {
      "cell_type": "code",
      "metadata": {
        "id": "nbtUIKZy6Xx1",
        "colab_type": "code",
        "colab": {}
      },
      "source": [
        "rfm_table = rfm_df.groupby('CUSTOMERNAME').agg({'ORDERDATE': lambda x: (NOW - x.max()).days,\n",
        "                                                  'ORDERNUMBER': lambda x: len(x.unique()),\n",
        "                                                  'SALES': lambda x: x.sum()})\n",
        "\n",
        "rfm_table = rfm_table.rename(columns={'ORDERDATE': 'recency', \n",
        "                                      'ORDERNUMBER': 'frequency',\n",
        "                                      'SALES': 'monetary_value'})"
      ],
      "execution_count": 0,
      "outputs": []
    },
    {
      "cell_type": "code",
      "metadata": {
        "id": "AcAzdKyV6Xx9",
        "colab_type": "code",
        "outputId": "ce5aa90e-4c73-467c-e6bc-ceb590985979",
        "colab": {
          "base_uri": "https://localhost:8080/",
          "height": 237
        }
      },
      "source": [
        "rfm_table.head()"
      ],
      "execution_count": 11,
      "outputs": [
        {
          "output_type": "execute_result",
          "data": {
            "text/html": [
              "<div>\n",
              "<style scoped>\n",
              "    .dataframe tbody tr th:only-of-type {\n",
              "        vertical-align: middle;\n",
              "    }\n",
              "\n",
              "    .dataframe tbody tr th {\n",
              "        vertical-align: top;\n",
              "    }\n",
              "\n",
              "    .dataframe thead th {\n",
              "        text-align: right;\n",
              "    }\n",
              "</style>\n",
              "<table border=\"1\" class=\"dataframe\">\n",
              "  <thead>\n",
              "    <tr style=\"text-align: right;\">\n",
              "      <th></th>\n",
              "      <th>recency</th>\n",
              "      <th>frequency</th>\n",
              "      <th>monetary_value</th>\n",
              "    </tr>\n",
              "    <tr>\n",
              "      <th>CUSTOMERNAME</th>\n",
              "      <th></th>\n",
              "      <th></th>\n",
              "      <th></th>\n",
              "    </tr>\n",
              "  </thead>\n",
              "  <tbody>\n",
              "    <tr>\n",
              "      <th>AV Stores, Co.</th>\n",
              "      <td>195</td>\n",
              "      <td>3</td>\n",
              "      <td>157807.81</td>\n",
              "    </tr>\n",
              "    <tr>\n",
              "      <th>Alpha Cognac</th>\n",
              "      <td>64</td>\n",
              "      <td>3</td>\n",
              "      <td>70488.44</td>\n",
              "    </tr>\n",
              "    <tr>\n",
              "      <th>Amica Models &amp; Co.</th>\n",
              "      <td>264</td>\n",
              "      <td>2</td>\n",
              "      <td>94117.26</td>\n",
              "    </tr>\n",
              "    <tr>\n",
              "      <th>Anna's Decorations, Ltd</th>\n",
              "      <td>83</td>\n",
              "      <td>4</td>\n",
              "      <td>153996.13</td>\n",
              "    </tr>\n",
              "    <tr>\n",
              "      <th>Atelier graphique</th>\n",
              "      <td>187</td>\n",
              "      <td>3</td>\n",
              "      <td>24179.96</td>\n",
              "    </tr>\n",
              "  </tbody>\n",
              "</table>\n",
              "</div>"
            ],
            "text/plain": [
              "                         recency  frequency  monetary_value\n",
              "CUSTOMERNAME                                               \n",
              "AV Stores, Co.               195          3       157807.81\n",
              "Alpha Cognac                  64          3        70488.44\n",
              "Amica Models & Co.           264          2        94117.26\n",
              "Anna's Decorations, Ltd       83          4       153996.13\n",
              "Atelier graphique            187          3        24179.96"
            ]
          },
          "metadata": {
            "tags": []
          },
          "execution_count": 11
        }
      ]
    },
    {
      "cell_type": "code",
      "metadata": {
        "colab_type": "code",
        "outputId": "88f9603e-93f0-4393-f724-e3fc2987629b",
        "id": "Sa9DRtHgD-D_",
        "colab": {
          "base_uri": "https://localhost:8080/",
          "height": 72
        }
      },
      "source": [
        "quantiles = rfm_table.quantile(q=[0.25,0.5,0.75]).to_dict()\n",
        "quantiles"
      ],
      "execution_count": 12,
      "outputs": [
        {
          "output_type": "execute_result",
          "data": {
            "text/plain": [
              "{'frequency': {0.25: 2.0, 0.5: 3.0, 0.75: 3.0},\n",
              " 'monetary_value': {0.25: 70129.4325, 0.5: 86522.61, 0.75: 120575.875},\n",
              " 'recency': {0.25: 80.25, 0.5: 185.0, 0.75: 229.25}}"
            ]
          },
          "metadata": {
            "tags": []
          },
          "execution_count": 12
        }
      ]
    },
    {
      "cell_type": "code",
      "metadata": {
        "colab_type": "code",
        "id": "4RcmoIrAD9US",
        "colab": {}
      },
      "source": [
        "def R_Class(value, category, quartile_dict):\n",
        "    if value <= quartile_dict[category][0.25]:\n",
        "        return 1\n",
        "    elif value <= quartile_dict[category][0.50]:\n",
        "        return 2\n",
        "    elif value <= quartile_dict[category][0.75]: \n",
        "        return 3\n",
        "    else:\n",
        "        return 4\n",
        "    \n",
        "\n",
        "def FM_Class(value, category, quartile_dict):\n",
        "    if value <= quartile_dict[category][0.25]:\n",
        "        return 4\n",
        "    elif value <= quartile_dict[category][0.50]:\n",
        "        return 3\n",
        "    elif value <= quartile_dict[category][0.75]: \n",
        "        return 2\n",
        "    else:\n",
        "        return 1"
      ],
      "execution_count": 0,
      "outputs": []
    },
    {
      "cell_type": "code",
      "metadata": {
        "id": "nVouwxIu6XyU",
        "colab_type": "code",
        "outputId": "3d35e305-84e1-410e-d924-309cb317b21d",
        "colab": {
          "base_uri": "https://localhost:8080/",
          "height": 237
        }
      },
      "source": [
        "rfm_table['R_Quartile'] = rfm_table['recency'].apply(R_Class, args=('recency', quantiles,))\n",
        "rfm_table['F_Quartile'] = rfm_table['frequency'].apply(FM_Class, args=('frequency', quantiles,))\n",
        "rfm_table['M_Quartile'] = rfm_table['monetary_value'].apply(FM_Class, args=('monetary_value', quantiles,))\n",
        "\n",
        "rfm_table['RFM_score'] = rfm_table[['R_Quartile', 'F_Quartile', 'M_Quartile']].sum(axis=1)\n",
        "\n",
        "rfm_table.head()"
      ],
      "execution_count": 14,
      "outputs": [
        {
          "output_type": "execute_result",
          "data": {
            "text/html": [
              "<div>\n",
              "<style scoped>\n",
              "    .dataframe tbody tr th:only-of-type {\n",
              "        vertical-align: middle;\n",
              "    }\n",
              "\n",
              "    .dataframe tbody tr th {\n",
              "        vertical-align: top;\n",
              "    }\n",
              "\n",
              "    .dataframe thead th {\n",
              "        text-align: right;\n",
              "    }\n",
              "</style>\n",
              "<table border=\"1\" class=\"dataframe\">\n",
              "  <thead>\n",
              "    <tr style=\"text-align: right;\">\n",
              "      <th></th>\n",
              "      <th>recency</th>\n",
              "      <th>frequency</th>\n",
              "      <th>monetary_value</th>\n",
              "      <th>R_Quartile</th>\n",
              "      <th>F_Quartile</th>\n",
              "      <th>M_Quartile</th>\n",
              "      <th>RFM_score</th>\n",
              "    </tr>\n",
              "    <tr>\n",
              "      <th>CUSTOMERNAME</th>\n",
              "      <th></th>\n",
              "      <th></th>\n",
              "      <th></th>\n",
              "      <th></th>\n",
              "      <th></th>\n",
              "      <th></th>\n",
              "      <th></th>\n",
              "    </tr>\n",
              "  </thead>\n",
              "  <tbody>\n",
              "    <tr>\n",
              "      <th>AV Stores, Co.</th>\n",
              "      <td>195</td>\n",
              "      <td>3</td>\n",
              "      <td>157807.81</td>\n",
              "      <td>3</td>\n",
              "      <td>3</td>\n",
              "      <td>1</td>\n",
              "      <td>7</td>\n",
              "    </tr>\n",
              "    <tr>\n",
              "      <th>Alpha Cognac</th>\n",
              "      <td>64</td>\n",
              "      <td>3</td>\n",
              "      <td>70488.44</td>\n",
              "      <td>1</td>\n",
              "      <td>3</td>\n",
              "      <td>3</td>\n",
              "      <td>7</td>\n",
              "    </tr>\n",
              "    <tr>\n",
              "      <th>Amica Models &amp; Co.</th>\n",
              "      <td>264</td>\n",
              "      <td>2</td>\n",
              "      <td>94117.26</td>\n",
              "      <td>4</td>\n",
              "      <td>4</td>\n",
              "      <td>2</td>\n",
              "      <td>10</td>\n",
              "    </tr>\n",
              "    <tr>\n",
              "      <th>Anna's Decorations, Ltd</th>\n",
              "      <td>83</td>\n",
              "      <td>4</td>\n",
              "      <td>153996.13</td>\n",
              "      <td>2</td>\n",
              "      <td>1</td>\n",
              "      <td>1</td>\n",
              "      <td>4</td>\n",
              "    </tr>\n",
              "    <tr>\n",
              "      <th>Atelier graphique</th>\n",
              "      <td>187</td>\n",
              "      <td>3</td>\n",
              "      <td>24179.96</td>\n",
              "      <td>3</td>\n",
              "      <td>3</td>\n",
              "      <td>4</td>\n",
              "      <td>10</td>\n",
              "    </tr>\n",
              "  </tbody>\n",
              "</table>\n",
              "</div>"
            ],
            "text/plain": [
              "                         recency  frequency  monetary_value  R_Quartile  \\\n",
              "CUSTOMERNAME                                                              \n",
              "AV Stores, Co.               195          3       157807.81           3   \n",
              "Alpha Cognac                  64          3        70488.44           1   \n",
              "Amica Models & Co.           264          2        94117.26           4   \n",
              "Anna's Decorations, Ltd       83          4       153996.13           2   \n",
              "Atelier graphique            187          3        24179.96           3   \n",
              "\n",
              "                         F_Quartile  M_Quartile  RFM_score  \n",
              "CUSTOMERNAME                                                \n",
              "AV Stores, Co.                    3           1          7  \n",
              "Alpha Cognac                      3           3          7  \n",
              "Amica Models & Co.                4           2         10  \n",
              "Anna's Decorations, Ltd           1           1          4  \n",
              "Atelier graphique                 3           4         10  "
            ]
          },
          "metadata": {
            "tags": []
          },
          "execution_count": 14
        }
      ]
    },
    {
      "cell_type": "code",
      "metadata": {
        "id": "Vl9SALzO82cf",
        "colab_type": "code",
        "outputId": "58e38c63-9ce1-49cf-a128-e78fdbe4e432",
        "colab": {
          "base_uri": "https://localhost:8080/",
          "height": 237
        }
      },
      "source": [
        "def rfm_customer_grade(score):\n",
        "  if score <= 4:\n",
        "    return 'A'\n",
        "  elif score <= 7:\n",
        "    return 'B'\n",
        "  elif score <= 10:\n",
        "    return 'C'\n",
        "  else:\n",
        "    return 'D'\n",
        "\n",
        "rfm_table['customer_grade'] = rfm_table['RFM_score'].apply(rfm_customer_grade)\n",
        "rfm_table.head()"
      ],
      "execution_count": 15,
      "outputs": [
        {
          "output_type": "execute_result",
          "data": {
            "text/html": [
              "<div>\n",
              "<style scoped>\n",
              "    .dataframe tbody tr th:only-of-type {\n",
              "        vertical-align: middle;\n",
              "    }\n",
              "\n",
              "    .dataframe tbody tr th {\n",
              "        vertical-align: top;\n",
              "    }\n",
              "\n",
              "    .dataframe thead th {\n",
              "        text-align: right;\n",
              "    }\n",
              "</style>\n",
              "<table border=\"1\" class=\"dataframe\">\n",
              "  <thead>\n",
              "    <tr style=\"text-align: right;\">\n",
              "      <th></th>\n",
              "      <th>recency</th>\n",
              "      <th>frequency</th>\n",
              "      <th>monetary_value</th>\n",
              "      <th>R_Quartile</th>\n",
              "      <th>F_Quartile</th>\n",
              "      <th>M_Quartile</th>\n",
              "      <th>RFM_score</th>\n",
              "      <th>customer_grade</th>\n",
              "    </tr>\n",
              "    <tr>\n",
              "      <th>CUSTOMERNAME</th>\n",
              "      <th></th>\n",
              "      <th></th>\n",
              "      <th></th>\n",
              "      <th></th>\n",
              "      <th></th>\n",
              "      <th></th>\n",
              "      <th></th>\n",
              "      <th></th>\n",
              "    </tr>\n",
              "  </thead>\n",
              "  <tbody>\n",
              "    <tr>\n",
              "      <th>AV Stores, Co.</th>\n",
              "      <td>195</td>\n",
              "      <td>3</td>\n",
              "      <td>157807.81</td>\n",
              "      <td>3</td>\n",
              "      <td>3</td>\n",
              "      <td>1</td>\n",
              "      <td>7</td>\n",
              "      <td>B</td>\n",
              "    </tr>\n",
              "    <tr>\n",
              "      <th>Alpha Cognac</th>\n",
              "      <td>64</td>\n",
              "      <td>3</td>\n",
              "      <td>70488.44</td>\n",
              "      <td>1</td>\n",
              "      <td>3</td>\n",
              "      <td>3</td>\n",
              "      <td>7</td>\n",
              "      <td>B</td>\n",
              "    </tr>\n",
              "    <tr>\n",
              "      <th>Amica Models &amp; Co.</th>\n",
              "      <td>264</td>\n",
              "      <td>2</td>\n",
              "      <td>94117.26</td>\n",
              "      <td>4</td>\n",
              "      <td>4</td>\n",
              "      <td>2</td>\n",
              "      <td>10</td>\n",
              "      <td>C</td>\n",
              "    </tr>\n",
              "    <tr>\n",
              "      <th>Anna's Decorations, Ltd</th>\n",
              "      <td>83</td>\n",
              "      <td>4</td>\n",
              "      <td>153996.13</td>\n",
              "      <td>2</td>\n",
              "      <td>1</td>\n",
              "      <td>1</td>\n",
              "      <td>4</td>\n",
              "      <td>A</td>\n",
              "    </tr>\n",
              "    <tr>\n",
              "      <th>Atelier graphique</th>\n",
              "      <td>187</td>\n",
              "      <td>3</td>\n",
              "      <td>24179.96</td>\n",
              "      <td>3</td>\n",
              "      <td>3</td>\n",
              "      <td>4</td>\n",
              "      <td>10</td>\n",
              "      <td>C</td>\n",
              "    </tr>\n",
              "  </tbody>\n",
              "</table>\n",
              "</div>"
            ],
            "text/plain": [
              "                         recency  frequency  monetary_value  R_Quartile  \\\n",
              "CUSTOMERNAME                                                              \n",
              "AV Stores, Co.               195          3       157807.81           3   \n",
              "Alpha Cognac                  64          3        70488.44           1   \n",
              "Amica Models & Co.           264          2        94117.26           4   \n",
              "Anna's Decorations, Ltd       83          4       153996.13           2   \n",
              "Atelier graphique            187          3        24179.96           3   \n",
              "\n",
              "                         F_Quartile  M_Quartile  RFM_score customer_grade  \n",
              "CUSTOMERNAME                                                               \n",
              "AV Stores, Co.                    3           1          7              B  \n",
              "Alpha Cognac                      3           3          7              B  \n",
              "Amica Models & Co.                4           2         10              C  \n",
              "Anna's Decorations, Ltd           1           1          4              A  \n",
              "Atelier graphique                 3           4         10              C  "
            ]
          },
          "metadata": {
            "tags": []
          },
          "execution_count": 15
        }
      ]
    },
    {
      "cell_type": "markdown",
      "metadata": {
        "id": "cRLDIA6aB1q4",
        "colab_type": "text"
      },
      "source": [
        "## Customer Segments"
      ]
    },
    {
      "cell_type": "code",
      "metadata": {
        "id": "PeTAjuAZ-ko5",
        "colab_type": "code",
        "colab": {}
      },
      "source": [
        "def RFM_segment(recency=None, frequency=None, monetary=None):\n",
        "  condition = None\n",
        "  \n",
        "  if recency is not None:\n",
        "    r_condition = rfm_table['R_Quartile'] == recency\n",
        "    condition = r_condition\n",
        "  if frequency is not None:\n",
        "    f_condition = rfm_table['F_Quartile'] == frequency\n",
        "    if condition is not None:\n",
        "      condition = condition & f_condition\n",
        "    else:\n",
        "      condition = f_condition\n",
        "  if monetary is not None:\n",
        "    m_condition = rfm_table['M_Quartile'] == monetary\n",
        "    if condition is not None:\n",
        "      condition = condition & m_condition\n",
        "    else:\n",
        "      condition = m_condition\n",
        "  \n",
        "  return condition"
      ],
      "execution_count": 0,
      "outputs": []
    },
    {
      "cell_type": "code",
      "metadata": {
        "id": "uTibCp166XyZ",
        "colab_type": "code",
        "outputId": "f41735f3-0fae-46a4-85ab-d201397a2301",
        "colab": {
          "base_uri": "https://localhost:8080/",
          "height": 237
        }
      },
      "source": [
        "# Best Customers\n",
        "rfm_table[RFM_segment(1,1,1)].sort_values('monetary_value', ascending=False).head()"
      ],
      "execution_count": 17,
      "outputs": [
        {
          "output_type": "execute_result",
          "data": {
            "text/html": [
              "<div>\n",
              "<style scoped>\n",
              "    .dataframe tbody tr th:only-of-type {\n",
              "        vertical-align: middle;\n",
              "    }\n",
              "\n",
              "    .dataframe tbody tr th {\n",
              "        vertical-align: top;\n",
              "    }\n",
              "\n",
              "    .dataframe thead th {\n",
              "        text-align: right;\n",
              "    }\n",
              "</style>\n",
              "<table border=\"1\" class=\"dataframe\">\n",
              "  <thead>\n",
              "    <tr style=\"text-align: right;\">\n",
              "      <th></th>\n",
              "      <th>recency</th>\n",
              "      <th>frequency</th>\n",
              "      <th>monetary_value</th>\n",
              "      <th>R_Quartile</th>\n",
              "      <th>F_Quartile</th>\n",
              "      <th>M_Quartile</th>\n",
              "      <th>RFM_score</th>\n",
              "      <th>customer_grade</th>\n",
              "    </tr>\n",
              "    <tr>\n",
              "      <th>CUSTOMERNAME</th>\n",
              "      <th></th>\n",
              "      <th></th>\n",
              "      <th></th>\n",
              "      <th></th>\n",
              "      <th></th>\n",
              "      <th></th>\n",
              "      <th></th>\n",
              "      <th></th>\n",
              "    </tr>\n",
              "  </thead>\n",
              "  <tbody>\n",
              "    <tr>\n",
              "      <th>Euro Shopping Channel</th>\n",
              "      <td>0</td>\n",
              "      <td>26</td>\n",
              "      <td>912294.11</td>\n",
              "      <td>1</td>\n",
              "      <td>1</td>\n",
              "      <td>1</td>\n",
              "      <td>3</td>\n",
              "      <td>A</td>\n",
              "    </tr>\n",
              "    <tr>\n",
              "      <th>Mini Gifts Distributors Ltd.</th>\n",
              "      <td>2</td>\n",
              "      <td>17</td>\n",
              "      <td>654858.06</td>\n",
              "      <td>1</td>\n",
              "      <td>1</td>\n",
              "      <td>1</td>\n",
              "      <td>3</td>\n",
              "      <td>A</td>\n",
              "    </tr>\n",
              "    <tr>\n",
              "      <th>La Rochelle Gifts</th>\n",
              "      <td>0</td>\n",
              "      <td>4</td>\n",
              "      <td>180124.90</td>\n",
              "      <td>1</td>\n",
              "      <td>1</td>\n",
              "      <td>1</td>\n",
              "      <td>3</td>\n",
              "      <td>A</td>\n",
              "    </tr>\n",
              "    <tr>\n",
              "      <th>The Sharp Gifts Warehouse</th>\n",
              "      <td>39</td>\n",
              "      <td>4</td>\n",
              "      <td>160010.27</td>\n",
              "      <td>1</td>\n",
              "      <td>1</td>\n",
              "      <td>1</td>\n",
              "      <td>3</td>\n",
              "      <td>A</td>\n",
              "    </tr>\n",
              "    <tr>\n",
              "      <th>Souveniers And Things Co.</th>\n",
              "      <td>2</td>\n",
              "      <td>4</td>\n",
              "      <td>151570.98</td>\n",
              "      <td>1</td>\n",
              "      <td>1</td>\n",
              "      <td>1</td>\n",
              "      <td>3</td>\n",
              "      <td>A</td>\n",
              "    </tr>\n",
              "  </tbody>\n",
              "</table>\n",
              "</div>"
            ],
            "text/plain": [
              "                              recency  frequency  monetary_value  R_Quartile  \\\n",
              "CUSTOMERNAME                                                                   \n",
              "Euro Shopping Channel               0         26       912294.11           1   \n",
              "Mini Gifts Distributors Ltd.        2         17       654858.06           1   \n",
              "La Rochelle Gifts                   0          4       180124.90           1   \n",
              "The Sharp Gifts Warehouse          39          4       160010.27           1   \n",
              "Souveniers And Things Co.           2          4       151570.98           1   \n",
              "\n",
              "                              F_Quartile  M_Quartile  RFM_score customer_grade  \n",
              "CUSTOMERNAME                                                                    \n",
              "Euro Shopping Channel                  1           1          3              A  \n",
              "Mini Gifts Distributors Ltd.           1           1          3              A  \n",
              "La Rochelle Gifts                      1           1          3              A  \n",
              "The Sharp Gifts Warehouse              1           1          3              A  \n",
              "Souveniers And Things Co.              1           1          3              A  "
            ]
          },
          "metadata": {
            "tags": []
          },
          "execution_count": 17
        }
      ]
    },
    {
      "cell_type": "code",
      "metadata": {
        "id": "deDuXJVv6Xyd",
        "colab_type": "code",
        "outputId": "db1d8c47-9942-4fb6-cd44-888ad1f33e0e",
        "colab": {
          "base_uri": "https://localhost:8080/",
          "height": 237
        }
      },
      "source": [
        "# Customers on Verge of Churn\n",
        "rfm_table[rfm_table['R_Quartile'] >= 3].sort_values('monetary_value', ascending=False).head()"
      ],
      "execution_count": 18,
      "outputs": [
        {
          "output_type": "execute_result",
          "data": {
            "text/html": [
              "<div>\n",
              "<style scoped>\n",
              "    .dataframe tbody tr th:only-of-type {\n",
              "        vertical-align: middle;\n",
              "    }\n",
              "\n",
              "    .dataframe tbody tr th {\n",
              "        vertical-align: top;\n",
              "    }\n",
              "\n",
              "    .dataframe thead th {\n",
              "        text-align: right;\n",
              "    }\n",
              "</style>\n",
              "<table border=\"1\" class=\"dataframe\">\n",
              "  <thead>\n",
              "    <tr style=\"text-align: right;\">\n",
              "      <th></th>\n",
              "      <th>recency</th>\n",
              "      <th>frequency</th>\n",
              "      <th>monetary_value</th>\n",
              "      <th>R_Quartile</th>\n",
              "      <th>F_Quartile</th>\n",
              "      <th>M_Quartile</th>\n",
              "      <th>RFM_score</th>\n",
              "      <th>customer_grade</th>\n",
              "    </tr>\n",
              "    <tr>\n",
              "      <th>CUSTOMERNAME</th>\n",
              "      <th></th>\n",
              "      <th></th>\n",
              "      <th></th>\n",
              "      <th></th>\n",
              "      <th></th>\n",
              "      <th></th>\n",
              "      <th></th>\n",
              "      <th></th>\n",
              "    </tr>\n",
              "  </thead>\n",
              "  <tbody>\n",
              "    <tr>\n",
              "      <th>Land of Toys Inc.</th>\n",
              "      <td>197</td>\n",
              "      <td>4</td>\n",
              "      <td>164069.44</td>\n",
              "      <td>3</td>\n",
              "      <td>1</td>\n",
              "      <td>1</td>\n",
              "      <td>5</td>\n",
              "      <td>B</td>\n",
              "    </tr>\n",
              "    <tr>\n",
              "      <th>AV Stores, Co.</th>\n",
              "      <td>195</td>\n",
              "      <td>3</td>\n",
              "      <td>157807.81</td>\n",
              "      <td>3</td>\n",
              "      <td>3</td>\n",
              "      <td>1</td>\n",
              "      <td>7</td>\n",
              "      <td>B</td>\n",
              "    </tr>\n",
              "    <tr>\n",
              "      <th>Saveley &amp; Henriot, Co.</th>\n",
              "      <td>455</td>\n",
              "      <td>3</td>\n",
              "      <td>142874.25</td>\n",
              "      <td>4</td>\n",
              "      <td>3</td>\n",
              "      <td>1</td>\n",
              "      <td>8</td>\n",
              "      <td>C</td>\n",
              "    </tr>\n",
              "    <tr>\n",
              "      <th>Rovelli Gifts</th>\n",
              "      <td>200</td>\n",
              "      <td>3</td>\n",
              "      <td>137955.72</td>\n",
              "      <td>3</td>\n",
              "      <td>3</td>\n",
              "      <td>1</td>\n",
              "      <td>7</td>\n",
              "      <td>B</td>\n",
              "    </tr>\n",
              "    <tr>\n",
              "      <th>Online Diecast Creations Co.</th>\n",
              "      <td>208</td>\n",
              "      <td>3</td>\n",
              "      <td>131685.30</td>\n",
              "      <td>3</td>\n",
              "      <td>3</td>\n",
              "      <td>1</td>\n",
              "      <td>7</td>\n",
              "      <td>B</td>\n",
              "    </tr>\n",
              "  </tbody>\n",
              "</table>\n",
              "</div>"
            ],
            "text/plain": [
              "                              recency  frequency  monetary_value  R_Quartile  \\\n",
              "CUSTOMERNAME                                                                   \n",
              "Land of Toys Inc.                 197          4       164069.44           3   \n",
              "AV Stores, Co.                    195          3       157807.81           3   \n",
              "Saveley & Henriot, Co.            455          3       142874.25           4   \n",
              "Rovelli Gifts                     200          3       137955.72           3   \n",
              "Online Diecast Creations Co.      208          3       131685.30           3   \n",
              "\n",
              "                              F_Quartile  M_Quartile  RFM_score customer_grade  \n",
              "CUSTOMERNAME                                                                    \n",
              "Land of Toys Inc.                      1           1          5              B  \n",
              "AV Stores, Co.                         3           1          7              B  \n",
              "Saveley & Henriot, Co.                 3           1          8              C  \n",
              "Rovelli Gifts                          3           1          7              B  \n",
              "Online Diecast Creations Co.           3           1          7              B  "
            ]
          },
          "metadata": {
            "tags": []
          },
          "execution_count": 18
        }
      ]
    },
    {
      "cell_type": "code",
      "metadata": {
        "id": "9Gy7TWzq6Xyk",
        "colab_type": "code",
        "outputId": "04d0111a-3ab0-4b7e-b0a4-4e830d41a15b",
        "colab": {
          "base_uri": "https://localhost:8080/",
          "height": 237
        }
      },
      "source": [
        "# Lost Cheap Customers\n",
        "rfm_table[RFM_segment(4,4,4)].sort_values('recency', ascending=False).head()"
      ],
      "execution_count": 19,
      "outputs": [
        {
          "output_type": "execute_result",
          "data": {
            "text/html": [
              "<div>\n",
              "<style scoped>\n",
              "    .dataframe tbody tr th:only-of-type {\n",
              "        vertical-align: middle;\n",
              "    }\n",
              "\n",
              "    .dataframe tbody tr th {\n",
              "        vertical-align: top;\n",
              "    }\n",
              "\n",
              "    .dataframe thead th {\n",
              "        text-align: right;\n",
              "    }\n",
              "</style>\n",
              "<table border=\"1\" class=\"dataframe\">\n",
              "  <thead>\n",
              "    <tr style=\"text-align: right;\">\n",
              "      <th></th>\n",
              "      <th>recency</th>\n",
              "      <th>frequency</th>\n",
              "      <th>monetary_value</th>\n",
              "      <th>R_Quartile</th>\n",
              "      <th>F_Quartile</th>\n",
              "      <th>M_Quartile</th>\n",
              "      <th>RFM_score</th>\n",
              "      <th>customer_grade</th>\n",
              "    </tr>\n",
              "    <tr>\n",
              "      <th>CUSTOMERNAME</th>\n",
              "      <th></th>\n",
              "      <th></th>\n",
              "      <th></th>\n",
              "      <th></th>\n",
              "      <th></th>\n",
              "      <th></th>\n",
              "      <th></th>\n",
              "      <th></th>\n",
              "    </tr>\n",
              "  </thead>\n",
              "  <tbody>\n",
              "    <tr>\n",
              "      <th>Men 'R' US Retailers, Ltd.</th>\n",
              "      <td>508</td>\n",
              "      <td>2</td>\n",
              "      <td>48048.46</td>\n",
              "      <td>4</td>\n",
              "      <td>4</td>\n",
              "      <td>4</td>\n",
              "      <td>12</td>\n",
              "      <td>D</td>\n",
              "    </tr>\n",
              "    <tr>\n",
              "      <th>Double Decker Gift Stores, Ltd</th>\n",
              "      <td>495</td>\n",
              "      <td>2</td>\n",
              "      <td>36019.04</td>\n",
              "      <td>4</td>\n",
              "      <td>4</td>\n",
              "      <td>4</td>\n",
              "      <td>12</td>\n",
              "      <td>D</td>\n",
              "    </tr>\n",
              "    <tr>\n",
              "      <th>West Coast Collectables Co.</th>\n",
              "      <td>488</td>\n",
              "      <td>2</td>\n",
              "      <td>46084.64</td>\n",
              "      <td>4</td>\n",
              "      <td>4</td>\n",
              "      <td>4</td>\n",
              "      <td>12</td>\n",
              "      <td>D</td>\n",
              "    </tr>\n",
              "    <tr>\n",
              "      <th>Signal Collectibles Ltd.</th>\n",
              "      <td>476</td>\n",
              "      <td>2</td>\n",
              "      <td>50218.51</td>\n",
              "      <td>4</td>\n",
              "      <td>4</td>\n",
              "      <td>4</td>\n",
              "      <td>12</td>\n",
              "      <td>D</td>\n",
              "    </tr>\n",
              "    <tr>\n",
              "      <th>Daedalus Designs Imports</th>\n",
              "      <td>465</td>\n",
              "      <td>2</td>\n",
              "      <td>69052.41</td>\n",
              "      <td>4</td>\n",
              "      <td>4</td>\n",
              "      <td>4</td>\n",
              "      <td>12</td>\n",
              "      <td>D</td>\n",
              "    </tr>\n",
              "  </tbody>\n",
              "</table>\n",
              "</div>"
            ],
            "text/plain": [
              "                                recency  frequency  monetary_value  \\\n",
              "CUSTOMERNAME                                                         \n",
              "Men 'R' US Retailers, Ltd.          508          2        48048.46   \n",
              "Double Decker Gift Stores, Ltd      495          2        36019.04   \n",
              "West Coast Collectables Co.         488          2        46084.64   \n",
              "Signal Collectibles Ltd.            476          2        50218.51   \n",
              "Daedalus Designs Imports            465          2        69052.41   \n",
              "\n",
              "                                R_Quartile  F_Quartile  M_Quartile  RFM_score  \\\n",
              "CUSTOMERNAME                                                                    \n",
              "Men 'R' US Retailers, Ltd.               4           4           4         12   \n",
              "Double Decker Gift Stores, Ltd           4           4           4         12   \n",
              "West Coast Collectables Co.              4           4           4         12   \n",
              "Signal Collectibles Ltd.                 4           4           4         12   \n",
              "Daedalus Designs Imports                 4           4           4         12   \n",
              "\n",
              "                               customer_grade  \n",
              "CUSTOMERNAME                                   \n",
              "Men 'R' US Retailers, Ltd.                  D  \n",
              "Double Decker Gift Stores, Ltd              D  \n",
              "West Coast Collectables Co.                 D  \n",
              "Signal Collectibles Ltd.                    D  \n",
              "Daedalus Designs Imports                    D  "
            ]
          },
          "metadata": {
            "tags": []
          },
          "execution_count": 19
        }
      ]
    },
    {
      "cell_type": "code",
      "metadata": {
        "id": "PzT6UAyg-cN-",
        "colab_type": "code",
        "outputId": "a55f62c2-364a-4970-d55b-b01f453a02d5",
        "colab": {
          "base_uri": "https://localhost:8080/",
          "height": 81
        }
      },
      "source": [
        "# Lost High Value Customers\n",
        "rfm_table[RFM_segment(4,1,1)].sort_values('recency', ascending=False).head()"
      ],
      "execution_count": 20,
      "outputs": [
        {
          "output_type": "execute_result",
          "data": {
            "text/html": [
              "<div>\n",
              "<style scoped>\n",
              "    .dataframe tbody tr th:only-of-type {\n",
              "        vertical-align: middle;\n",
              "    }\n",
              "\n",
              "    .dataframe tbody tr th {\n",
              "        vertical-align: top;\n",
              "    }\n",
              "\n",
              "    .dataframe thead th {\n",
              "        text-align: right;\n",
              "    }\n",
              "</style>\n",
              "<table border=\"1\" class=\"dataframe\">\n",
              "  <thead>\n",
              "    <tr style=\"text-align: right;\">\n",
              "      <th></th>\n",
              "      <th>recency</th>\n",
              "      <th>frequency</th>\n",
              "      <th>monetary_value</th>\n",
              "      <th>R_Quartile</th>\n",
              "      <th>F_Quartile</th>\n",
              "      <th>M_Quartile</th>\n",
              "      <th>RFM_score</th>\n",
              "      <th>customer_grade</th>\n",
              "    </tr>\n",
              "    <tr>\n",
              "      <th>CUSTOMERNAME</th>\n",
              "      <th></th>\n",
              "      <th></th>\n",
              "      <th></th>\n",
              "      <th></th>\n",
              "      <th></th>\n",
              "      <th></th>\n",
              "      <th></th>\n",
              "      <th></th>\n",
              "    </tr>\n",
              "  </thead>\n",
              "  <tbody>\n",
              "  </tbody>\n",
              "</table>\n",
              "</div>"
            ],
            "text/plain": [
              "Empty DataFrame\n",
              "Columns: [recency, frequency, monetary_value, R_Quartile, F_Quartile, M_Quartile, RFM_score, customer_grade]\n",
              "Index: []"
            ]
          },
          "metadata": {
            "tags": []
          },
          "execution_count": 20
        }
      ]
    },
    {
      "cell_type": "code",
      "metadata": {
        "id": "TmYI71K86Xyo",
        "colab_type": "code",
        "outputId": "8ff06513-0bc8-4a4a-c972-bbb63bbb1820",
        "colab": {
          "base_uri": "https://localhost:8080/",
          "height": 112
        }
      },
      "source": [
        "# Almost Lost High Value Customers\n",
        "rfm_table[RFM_segment(3,1,1)].sort_values('recency', ascending=False).head()"
      ],
      "execution_count": 21,
      "outputs": [
        {
          "output_type": "execute_result",
          "data": {
            "text/html": [
              "<div>\n",
              "<style scoped>\n",
              "    .dataframe tbody tr th:only-of-type {\n",
              "        vertical-align: middle;\n",
              "    }\n",
              "\n",
              "    .dataframe tbody tr th {\n",
              "        vertical-align: top;\n",
              "    }\n",
              "\n",
              "    .dataframe thead th {\n",
              "        text-align: right;\n",
              "    }\n",
              "</style>\n",
              "<table border=\"1\" class=\"dataframe\">\n",
              "  <thead>\n",
              "    <tr style=\"text-align: right;\">\n",
              "      <th></th>\n",
              "      <th>recency</th>\n",
              "      <th>frequency</th>\n",
              "      <th>monetary_value</th>\n",
              "      <th>R_Quartile</th>\n",
              "      <th>F_Quartile</th>\n",
              "      <th>M_Quartile</th>\n",
              "      <th>RFM_score</th>\n",
              "      <th>customer_grade</th>\n",
              "    </tr>\n",
              "    <tr>\n",
              "      <th>CUSTOMERNAME</th>\n",
              "      <th></th>\n",
              "      <th></th>\n",
              "      <th></th>\n",
              "      <th></th>\n",
              "      <th></th>\n",
              "      <th></th>\n",
              "      <th></th>\n",
              "      <th></th>\n",
              "    </tr>\n",
              "  </thead>\n",
              "  <tbody>\n",
              "    <tr>\n",
              "      <th>Land of Toys Inc.</th>\n",
              "      <td>197</td>\n",
              "      <td>4</td>\n",
              "      <td>164069.44</td>\n",
              "      <td>3</td>\n",
              "      <td>1</td>\n",
              "      <td>1</td>\n",
              "      <td>5</td>\n",
              "      <td>B</td>\n",
              "    </tr>\n",
              "  </tbody>\n",
              "</table>\n",
              "</div>"
            ],
            "text/plain": [
              "                   recency  frequency  monetary_value  R_Quartile  F_Quartile  \\\n",
              "CUSTOMERNAME                                                                    \n",
              "Land of Toys Inc.      197          4       164069.44           3           1   \n",
              "\n",
              "                   M_Quartile  RFM_score customer_grade  \n",
              "CUSTOMERNAME                                             \n",
              "Land of Toys Inc.           1          5              B  "
            ]
          },
          "metadata": {
            "tags": []
          },
          "execution_count": 21
        }
      ]
    },
    {
      "cell_type": "code",
      "metadata": {
        "id": "F-LMuwEg6Xyt",
        "colab_type": "code",
        "outputId": "cc65f3db-315a-433a-d0ba-318c745c0c6c",
        "colab": {
          "base_uri": "https://localhost:8080/",
          "height": 237
        }
      },
      "source": [
        "# Loyal Customers\n",
        "rfm_table[rfm_table['F_Quartile'] <= 2 ].sort_values('monetary_value', ascending=False).head()"
      ],
      "execution_count": 22,
      "outputs": [
        {
          "output_type": "execute_result",
          "data": {
            "text/html": [
              "<div>\n",
              "<style scoped>\n",
              "    .dataframe tbody tr th:only-of-type {\n",
              "        vertical-align: middle;\n",
              "    }\n",
              "\n",
              "    .dataframe tbody tr th {\n",
              "        vertical-align: top;\n",
              "    }\n",
              "\n",
              "    .dataframe thead th {\n",
              "        text-align: right;\n",
              "    }\n",
              "</style>\n",
              "<table border=\"1\" class=\"dataframe\">\n",
              "  <thead>\n",
              "    <tr style=\"text-align: right;\">\n",
              "      <th></th>\n",
              "      <th>recency</th>\n",
              "      <th>frequency</th>\n",
              "      <th>monetary_value</th>\n",
              "      <th>R_Quartile</th>\n",
              "      <th>F_Quartile</th>\n",
              "      <th>M_Quartile</th>\n",
              "      <th>RFM_score</th>\n",
              "      <th>customer_grade</th>\n",
              "    </tr>\n",
              "    <tr>\n",
              "      <th>CUSTOMERNAME</th>\n",
              "      <th></th>\n",
              "      <th></th>\n",
              "      <th></th>\n",
              "      <th></th>\n",
              "      <th></th>\n",
              "      <th></th>\n",
              "      <th></th>\n",
              "      <th></th>\n",
              "    </tr>\n",
              "  </thead>\n",
              "  <tbody>\n",
              "    <tr>\n",
              "      <th>Euro Shopping Channel</th>\n",
              "      <td>0</td>\n",
              "      <td>26</td>\n",
              "      <td>912294.11</td>\n",
              "      <td>1</td>\n",
              "      <td>1</td>\n",
              "      <td>1</td>\n",
              "      <td>3</td>\n",
              "      <td>A</td>\n",
              "    </tr>\n",
              "    <tr>\n",
              "      <th>Mini Gifts Distributors Ltd.</th>\n",
              "      <td>2</td>\n",
              "      <td>17</td>\n",
              "      <td>654858.06</td>\n",
              "      <td>1</td>\n",
              "      <td>1</td>\n",
              "      <td>1</td>\n",
              "      <td>3</td>\n",
              "      <td>A</td>\n",
              "    </tr>\n",
              "    <tr>\n",
              "      <th>Australian Collectors, Co.</th>\n",
              "      <td>183</td>\n",
              "      <td>5</td>\n",
              "      <td>200995.41</td>\n",
              "      <td>2</td>\n",
              "      <td>1</td>\n",
              "      <td>1</td>\n",
              "      <td>4</td>\n",
              "      <td>A</td>\n",
              "    </tr>\n",
              "    <tr>\n",
              "      <th>Muscle Machine Inc</th>\n",
              "      <td>181</td>\n",
              "      <td>4</td>\n",
              "      <td>197736.94</td>\n",
              "      <td>2</td>\n",
              "      <td>1</td>\n",
              "      <td>1</td>\n",
              "      <td>4</td>\n",
              "      <td>A</td>\n",
              "    </tr>\n",
              "    <tr>\n",
              "      <th>La Rochelle Gifts</th>\n",
              "      <td>0</td>\n",
              "      <td>4</td>\n",
              "      <td>180124.90</td>\n",
              "      <td>1</td>\n",
              "      <td>1</td>\n",
              "      <td>1</td>\n",
              "      <td>3</td>\n",
              "      <td>A</td>\n",
              "    </tr>\n",
              "  </tbody>\n",
              "</table>\n",
              "</div>"
            ],
            "text/plain": [
              "                              recency  frequency  monetary_value  R_Quartile  \\\n",
              "CUSTOMERNAME                                                                   \n",
              "Euro Shopping Channel               0         26       912294.11           1   \n",
              "Mini Gifts Distributors Ltd.        2         17       654858.06           1   \n",
              "Australian Collectors, Co.        183          5       200995.41           2   \n",
              "Muscle Machine Inc                181          4       197736.94           2   \n",
              "La Rochelle Gifts                   0          4       180124.90           1   \n",
              "\n",
              "                              F_Quartile  M_Quartile  RFM_score customer_grade  \n",
              "CUSTOMERNAME                                                                    \n",
              "Euro Shopping Channel                  1           1          3              A  \n",
              "Mini Gifts Distributors Ltd.           1           1          3              A  \n",
              "Australian Collectors, Co.             1           1          4              A  \n",
              "Muscle Machine Inc                     1           1          4              A  \n",
              "La Rochelle Gifts                      1           1          3              A  "
            ]
          },
          "metadata": {
            "tags": []
          },
          "execution_count": 22
        }
      ]
    },
    {
      "cell_type": "code",
      "metadata": {
        "id": "28kpLLWu9Y7K",
        "colab_type": "code",
        "outputId": "623ce0a7-91ec-40f7-f66b-6851021bacbc",
        "colab": {
          "base_uri": "https://localhost:8080/",
          "height": 237
        }
      },
      "source": [
        "# New Customers\n",
        "rfm_table[RFM_segment(1,3)].sort_values('monetary_value', ascending=False).head()"
      ],
      "execution_count": 23,
      "outputs": [
        {
          "output_type": "execute_result",
          "data": {
            "text/html": [
              "<div>\n",
              "<style scoped>\n",
              "    .dataframe tbody tr th:only-of-type {\n",
              "        vertical-align: middle;\n",
              "    }\n",
              "\n",
              "    .dataframe tbody tr th {\n",
              "        vertical-align: top;\n",
              "    }\n",
              "\n",
              "    .dataframe thead th {\n",
              "        text-align: right;\n",
              "    }\n",
              "</style>\n",
              "<table border=\"1\" class=\"dataframe\">\n",
              "  <thead>\n",
              "    <tr style=\"text-align: right;\">\n",
              "      <th></th>\n",
              "      <th>recency</th>\n",
              "      <th>frequency</th>\n",
              "      <th>monetary_value</th>\n",
              "      <th>R_Quartile</th>\n",
              "      <th>F_Quartile</th>\n",
              "      <th>M_Quartile</th>\n",
              "      <th>RFM_score</th>\n",
              "      <th>customer_grade</th>\n",
              "    </tr>\n",
              "    <tr>\n",
              "      <th>CUSTOMERNAME</th>\n",
              "      <th></th>\n",
              "      <th></th>\n",
              "      <th></th>\n",
              "      <th></th>\n",
              "      <th></th>\n",
              "      <th></th>\n",
              "      <th></th>\n",
              "      <th></th>\n",
              "    </tr>\n",
              "  </thead>\n",
              "  <tbody>\n",
              "    <tr>\n",
              "      <th>L'ordine Souveniers</th>\n",
              "      <td>21</td>\n",
              "      <td>3</td>\n",
              "      <td>142601.33</td>\n",
              "      <td>1</td>\n",
              "      <td>3</td>\n",
              "      <td>1</td>\n",
              "      <td>5</td>\n",
              "      <td>B</td>\n",
              "    </tr>\n",
              "    <tr>\n",
              "      <th>UK Collectables, Ltd.</th>\n",
              "      <td>53</td>\n",
              "      <td>3</td>\n",
              "      <td>118008.27</td>\n",
              "      <td>1</td>\n",
              "      <td>3</td>\n",
              "      <td>2</td>\n",
              "      <td>6</td>\n",
              "      <td>B</td>\n",
              "    </tr>\n",
              "    <tr>\n",
              "      <th>Gift Depot Inc.</th>\n",
              "      <td>26</td>\n",
              "      <td>3</td>\n",
              "      <td>101894.79</td>\n",
              "      <td>1</td>\n",
              "      <td>3</td>\n",
              "      <td>2</td>\n",
              "      <td>6</td>\n",
              "      <td>B</td>\n",
              "    </tr>\n",
              "    <tr>\n",
              "      <th>Auto Canal Petit</th>\n",
              "      <td>54</td>\n",
              "      <td>3</td>\n",
              "      <td>93170.66</td>\n",
              "      <td>1</td>\n",
              "      <td>3</td>\n",
              "      <td>2</td>\n",
              "      <td>6</td>\n",
              "      <td>B</td>\n",
              "    </tr>\n",
              "    <tr>\n",
              "      <th>Tekni Collectables Inc.</th>\n",
              "      <td>58</td>\n",
              "      <td>3</td>\n",
              "      <td>83228.19</td>\n",
              "      <td>1</td>\n",
              "      <td>3</td>\n",
              "      <td>3</td>\n",
              "      <td>7</td>\n",
              "      <td>B</td>\n",
              "    </tr>\n",
              "  </tbody>\n",
              "</table>\n",
              "</div>"
            ],
            "text/plain": [
              "                         recency  frequency  monetary_value  R_Quartile  \\\n",
              "CUSTOMERNAME                                                              \n",
              "L'ordine Souveniers           21          3       142601.33           1   \n",
              "UK Collectables, Ltd.         53          3       118008.27           1   \n",
              "Gift Depot Inc.               26          3       101894.79           1   \n",
              "Auto Canal Petit              54          3        93170.66           1   \n",
              "Tekni Collectables Inc.       58          3        83228.19           1   \n",
              "\n",
              "                         F_Quartile  M_Quartile  RFM_score customer_grade  \n",
              "CUSTOMERNAME                                                               \n",
              "L'ordine Souveniers               3           1          5              B  \n",
              "UK Collectables, Ltd.             3           2          6              B  \n",
              "Gift Depot Inc.                   3           2          6              B  \n",
              "Auto Canal Petit                  3           2          6              B  \n",
              "Tekni Collectables Inc.           3           3          7              B  "
            ]
          },
          "metadata": {
            "tags": []
          },
          "execution_count": 23
        }
      ]
    },
    {
      "cell_type": "code",
      "metadata": {
        "id": "JLddyE3lRU8k",
        "colab_type": "code",
        "outputId": "4adb1043-fa0f-4363-98a9-34d6931354f8",
        "colab": {
          "base_uri": "https://localhost:8080/",
          "height": 206
        }
      },
      "source": [
        "rfm_table[RFM_segment(1,3,1) | RFM_segment(1,2,1) | RFM_segment(1,3,2) | RFM_segment(1,2,2)]"
      ],
      "execution_count": 24,
      "outputs": [
        {
          "output_type": "execute_result",
          "data": {
            "text/html": [
              "<div>\n",
              "<style scoped>\n",
              "    .dataframe tbody tr th:only-of-type {\n",
              "        vertical-align: middle;\n",
              "    }\n",
              "\n",
              "    .dataframe tbody tr th {\n",
              "        vertical-align: top;\n",
              "    }\n",
              "\n",
              "    .dataframe thead th {\n",
              "        text-align: right;\n",
              "    }\n",
              "</style>\n",
              "<table border=\"1\" class=\"dataframe\">\n",
              "  <thead>\n",
              "    <tr style=\"text-align: right;\">\n",
              "      <th></th>\n",
              "      <th>recency</th>\n",
              "      <th>frequency</th>\n",
              "      <th>monetary_value</th>\n",
              "      <th>R_Quartile</th>\n",
              "      <th>F_Quartile</th>\n",
              "      <th>M_Quartile</th>\n",
              "      <th>RFM_score</th>\n",
              "      <th>customer_grade</th>\n",
              "    </tr>\n",
              "    <tr>\n",
              "      <th>CUSTOMERNAME</th>\n",
              "      <th></th>\n",
              "      <th></th>\n",
              "      <th></th>\n",
              "      <th></th>\n",
              "      <th></th>\n",
              "      <th></th>\n",
              "      <th></th>\n",
              "      <th></th>\n",
              "    </tr>\n",
              "  </thead>\n",
              "  <tbody>\n",
              "    <tr>\n",
              "      <th>Auto Canal Petit</th>\n",
              "      <td>54</td>\n",
              "      <td>3</td>\n",
              "      <td>93170.66</td>\n",
              "      <td>1</td>\n",
              "      <td>3</td>\n",
              "      <td>2</td>\n",
              "      <td>6</td>\n",
              "      <td>B</td>\n",
              "    </tr>\n",
              "    <tr>\n",
              "      <th>Gift Depot Inc.</th>\n",
              "      <td>26</td>\n",
              "      <td>3</td>\n",
              "      <td>101894.79</td>\n",
              "      <td>1</td>\n",
              "      <td>3</td>\n",
              "      <td>2</td>\n",
              "      <td>6</td>\n",
              "      <td>B</td>\n",
              "    </tr>\n",
              "    <tr>\n",
              "      <th>L'ordine Souveniers</th>\n",
              "      <td>21</td>\n",
              "      <td>3</td>\n",
              "      <td>142601.33</td>\n",
              "      <td>1</td>\n",
              "      <td>3</td>\n",
              "      <td>1</td>\n",
              "      <td>5</td>\n",
              "      <td>B</td>\n",
              "    </tr>\n",
              "    <tr>\n",
              "      <th>UK Collectables, Ltd.</th>\n",
              "      <td>53</td>\n",
              "      <td>3</td>\n",
              "      <td>118008.27</td>\n",
              "      <td>1</td>\n",
              "      <td>3</td>\n",
              "      <td>2</td>\n",
              "      <td>6</td>\n",
              "      <td>B</td>\n",
              "    </tr>\n",
              "  </tbody>\n",
              "</table>\n",
              "</div>"
            ],
            "text/plain": [
              "                       recency  frequency  monetary_value  R_Quartile  \\\n",
              "CUSTOMERNAME                                                            \n",
              "Auto Canal Petit            54          3        93170.66           1   \n",
              "Gift Depot Inc.             26          3       101894.79           1   \n",
              "L'ordine Souveniers         21          3       142601.33           1   \n",
              "UK Collectables, Ltd.       53          3       118008.27           1   \n",
              "\n",
              "                       F_Quartile  M_Quartile  RFM_score customer_grade  \n",
              "CUSTOMERNAME                                                             \n",
              "Auto Canal Petit                3           2          6              B  \n",
              "Gift Depot Inc.                 3           2          6              B  \n",
              "L'ordine Souveniers             3           1          5              B  \n",
              "UK Collectables, Ltd.           3           2          6              B  "
            ]
          },
          "metadata": {
            "tags": []
          },
          "execution_count": 24
        }
      ]
    },
    {
      "cell_type": "code",
      "metadata": {
        "id": "gx20V_r86Xy5",
        "colab_type": "code",
        "outputId": "b365d0ed-3cc2-43c6-cf31-e5a16a115059",
        "colab": {
          "base_uri": "https://localhost:8080/",
          "height": 293
        }
      },
      "source": [
        "rfm_table['customer_grade'].value_counts(normalize=True).plot(kind='bar')\n",
        "plt.title('Customer Grade Distribution')\n",
        "plt.xlabel('Customer Grade')\n",
        "plt.ylabel('% Proportion')\n",
        "plt.show()"
      ],
      "execution_count": 25,
      "outputs": [
        {
          "output_type": "display_data",
          "data": {
            "image/png": "[encoded data removed]",
            "text/plain": [
              "<Figure size 432x288 with 1 Axes>"
            ]
          },
          "metadata": {
            "tags": []
          }
        }
      ]
    },
    {
      "cell_type": "code",
      "metadata": {
        "id": "paBO9qlmCqcI",
        "colab_type": "code",
        "outputId": "a4cbec89-3d78-45f4-8a31-9844e4e4e563",
        "colab": {
          "base_uri": "https://localhost:8080/",
          "height": 144
        }
      },
      "source": [
        "rfm_level_agg = rfm_table.groupby(['customer_grade']).agg({\n",
        "    'recency': 'mean',\n",
        "    'frequency': 'mean',\n",
        "    'monetary_value':['mean','count']}).round(1)\n",
        "\n",
        "print(rfm_level_agg)"
      ],
      "execution_count": 26,
      "outputs": [
        {
          "output_type": "stream",
          "text": [
            "               recency frequency monetary_value      \n",
            "                  mean      mean           mean count\n",
            "customer_grade                                       \n",
            "A                 60.2       6.3       226077.9    17\n",
            "B                115.3       3.2       103177.5    28\n",
            "C                205.8       2.6        79398.3    28\n",
            "D                353.4       1.9        56693.8    19\n"
          ],
          "name": "stdout"
        }
      ]
    },
    {
      "cell_type": "markdown",
      "metadata": {
        "id": "3EU6KfUfFgDz",
        "colab_type": "text"
      },
      "source": [
        "# KMeans Segmentation\n",
        "\n",
        "KMeans Assumptions\n",
        "- All variables have symmetrical (Normal) Distribution\n",
        "- All Variables have same average value(approx)\n",
        "- All Variables have same variance(approx)\n"
      ]
    },
    {
      "cell_type": "code",
      "metadata": {
        "id": "oMIXdyrfE8Yo",
        "colab_type": "code",
        "outputId": "e9a6124f-272c-4185-993d-28dc64e42318",
        "colab": {
          "base_uri": "https://localhost:8080/",
          "height": 809
        }
      },
      "source": [
        "rfm = ['recency', 'frequency', 'monetary_value']\n",
        "\n",
        "for feature in rfm:\n",
        "  rfm_table[feature].hist()\n",
        "  plt.title(feature)\n",
        "  plt.ylabel(feature)\n",
        "  plt.show()"
      ],
      "execution_count": 27,
      "outputs": [
        {
          "output_type": "display_data",
          "data": {
            "image/png": "[encoded data removed]",
            "text/plain": [
              "<Figure size 432x288 with 1 Axes>"
            ]
          },
          "metadata": {
            "tags": []
          }
        },
        {
          "output_type": "display_data",
          "data": {
            "image/png": "[encoded data removed]",
            "text/plain": [
              "<Figure size 432x288 with 1 Axes>"
            ]
          },
          "metadata": {
            "tags": []
          }
        },
        {
          "output_type": "display_data",
          "data": {
            "image/png": "[encoded data removed]",
            "text/plain": [
              "<Figure size 432x288 with 1 Axes>"
            ]
          },
          "metadata": {
            "tags": []
          }
        }
      ]
    },
    {
      "cell_type": "code",
      "metadata": {
        "id": "BD5gdayxFu5P",
        "colab_type": "code",
        "outputId": "cb8d128c-19a3-4821-d344-0230de17e84f",
        "colab": {
          "base_uri": "https://localhost:8080/",
          "height": 237
        }
      },
      "source": [
        "log_rfm = np.log(rfm_table[rfm])\n",
        "log_rfm['recency'] = log_rfm['recency'].replace(-np.inf, 0)\n",
        "log_rfm.head()"
      ],
      "execution_count": 28,
      "outputs": [
        {
          "output_type": "execute_result",
          "data": {
            "text/html": [
              "<div>\n",
              "<style scoped>\n",
              "    .dataframe tbody tr th:only-of-type {\n",
              "        vertical-align: middle;\n",
              "    }\n",
              "\n",
              "    .dataframe tbody tr th {\n",
              "        vertical-align: top;\n",
              "    }\n",
              "\n",
              "    .dataframe thead th {\n",
              "        text-align: right;\n",
              "    }\n",
              "</style>\n",
              "<table border=\"1\" class=\"dataframe\">\n",
              "  <thead>\n",
              "    <tr style=\"text-align: right;\">\n",
              "      <th></th>\n",
              "      <th>recency</th>\n",
              "      <th>frequency</th>\n",
              "      <th>monetary_value</th>\n",
              "    </tr>\n",
              "    <tr>\n",
              "      <th>CUSTOMERNAME</th>\n",
              "      <th></th>\n",
              "      <th></th>\n",
              "      <th></th>\n",
              "    </tr>\n",
              "  </thead>\n",
              "  <tbody>\n",
              "    <tr>\n",
              "      <th>AV Stores, Co.</th>\n",
              "      <td>5.273000</td>\n",
              "      <td>1.098612</td>\n",
              "      <td>11.969133</td>\n",
              "    </tr>\n",
              "    <tr>\n",
              "      <th>Alpha Cognac</th>\n",
              "      <td>4.158883</td>\n",
              "      <td>1.098612</td>\n",
              "      <td>11.163204</td>\n",
              "    </tr>\n",
              "    <tr>\n",
              "      <th>Amica Models &amp; Co.</th>\n",
              "      <td>5.575949</td>\n",
              "      <td>0.693147</td>\n",
              "      <td>11.452297</td>\n",
              "    </tr>\n",
              "    <tr>\n",
              "      <th>Anna's Decorations, Ltd</th>\n",
              "      <td>4.418841</td>\n",
              "      <td>1.386294</td>\n",
              "      <td>11.944683</td>\n",
              "    </tr>\n",
              "    <tr>\n",
              "      <th>Atelier graphique</th>\n",
              "      <td>5.231109</td>\n",
              "      <td>1.098612</td>\n",
              "      <td>10.093279</td>\n",
              "    </tr>\n",
              "  </tbody>\n",
              "</table>\n",
              "</div>"
            ],
            "text/plain": [
              "                          recency  frequency  monetary_value\n",
              "CUSTOMERNAME                                                \n",
              "AV Stores, Co.           5.273000   1.098612       11.969133\n",
              "Alpha Cognac             4.158883   1.098612       11.163204\n",
              "Amica Models & Co.       5.575949   0.693147       11.452297\n",
              "Anna's Decorations, Ltd  4.418841   1.386294       11.944683\n",
              "Atelier graphique        5.231109   1.098612       10.093279"
            ]
          },
          "metadata": {
            "tags": []
          },
          "execution_count": 28
        }
      ]
    },
    {
      "cell_type": "code",
      "metadata": {
        "id": "lEO_TiHgG5P5",
        "colab_type": "code",
        "outputId": "b59f6f9a-3b29-440d-a043-fee29118a90f",
        "colab": {
          "base_uri": "https://localhost:8080/",
          "height": 809
        }
      },
      "source": [
        "for feature in rfm:\n",
        "  log_rfm[feature].hist()\n",
        "  plt.title(feature)\n",
        "  plt.ylabel(feature)\n",
        "  plt.show()"
      ],
      "execution_count": 29,
      "outputs": [
        {
          "output_type": "display_data",
          "data": {
            "image/png": "[encoded data removed]",
            "text/plain": [
              "<Figure size 432x288 with 1 Axes>"
            ]
          },
          "metadata": {
            "tags": []
          }
        },
        {
          "output_type": "display_data",
          "data": {
            "image/png": "[encoded data removed]",
            "text/plain": [
              "<Figure size 432x288 with 1 Axes>"
            ]
          },
          "metadata": {
            "tags": []
          }
        },
        {
          "output_type": "display_data",
          "data": {
            "image/png": "[encoded data removed]",
            "text/plain": [
              "<Figure size 432x288 with 1 Axes>"
            ]
          },
          "metadata": {
            "tags": []
          }
        }
      ]
    },
    {
      "cell_type": "code",
      "metadata": {
        "id": "Cc8Oo9jKJMHV",
        "colab_type": "code",
        "outputId": "4c8b8370-cf32-4178-ab29-aa74e30a9364",
        "colab": {
          "base_uri": "https://localhost:8080/",
          "height": 300
        }
      },
      "source": [
        "scaler = StandardScaler()\n",
        "scaler.fit(log_rfm)\n",
        "\n",
        "rfm_normalized = scaler.transform(log_rfm)\n",
        "rfm_normalized = pd.DataFrame(rfm_normalized, index=log_rfm.index, columns=log_rfm.columns)\n",
        "rfm_normalized.describe().round()"
      ],
      "execution_count": 30,
      "outputs": [
        {
          "output_type": "execute_result",
          "data": {
            "text/html": [
              "<div>\n",
              "<style scoped>\n",
              "    .dataframe tbody tr th:only-of-type {\n",
              "        vertical-align: middle;\n",
              "    }\n",
              "\n",
              "    .dataframe tbody tr th {\n",
              "        vertical-align: top;\n",
              "    }\n",
              "\n",
              "    .dataframe thead th {\n",
              "        text-align: right;\n",
              "    }\n",
              "</style>\n",
              "<table border=\"1\" class=\"dataframe\">\n",
              "  <thead>\n",
              "    <tr style=\"text-align: right;\">\n",
              "      <th></th>\n",
              "      <th>recency</th>\n",
              "      <th>frequency</th>\n",
              "      <th>monetary_value</th>\n",
              "    </tr>\n",
              "  </thead>\n",
              "  <tbody>\n",
              "    <tr>\n",
              "      <th>count</th>\n",
              "      <td>92.0</td>\n",
              "      <td>92.0</td>\n",
              "      <td>92.0</td>\n",
              "    </tr>\n",
              "    <tr>\n",
              "      <th>mean</th>\n",
              "      <td>-0.0</td>\n",
              "      <td>0.0</td>\n",
              "      <td>0.0</td>\n",
              "    </tr>\n",
              "    <tr>\n",
              "      <th>std</th>\n",
              "      <td>1.0</td>\n",
              "      <td>1.0</td>\n",
              "      <td>1.0</td>\n",
              "    </tr>\n",
              "    <tr>\n",
              "      <th>min</th>\n",
              "      <td>-3.0</td>\n",
              "      <td>-3.0</td>\n",
              "      <td>-4.0</td>\n",
              "    </tr>\n",
              "    <tr>\n",
              "      <th>25%</th>\n",
              "      <td>-0.0</td>\n",
              "      <td>-1.0</td>\n",
              "      <td>-0.0</td>\n",
              "    </tr>\n",
              "    <tr>\n",
              "      <th>50%</th>\n",
              "      <td>0.0</td>\n",
              "      <td>0.0</td>\n",
              "      <td>-0.0</td>\n",
              "    </tr>\n",
              "    <tr>\n",
              "      <th>75%</th>\n",
              "      <td>1.0</td>\n",
              "      <td>0.0</td>\n",
              "      <td>1.0</td>\n",
              "    </tr>\n",
              "    <tr>\n",
              "      <th>max</th>\n",
              "      <td>1.0</td>\n",
              "      <td>5.0</td>\n",
              "      <td>4.0</td>\n",
              "    </tr>\n",
              "  </tbody>\n",
              "</table>\n",
              "</div>"
            ],
            "text/plain": [
              "       recency  frequency  monetary_value\n",
              "count     92.0       92.0            92.0\n",
              "mean      -0.0        0.0             0.0\n",
              "std        1.0        1.0             1.0\n",
              "min       -3.0       -3.0            -4.0\n",
              "25%       -0.0       -1.0            -0.0\n",
              "50%        0.0        0.0            -0.0\n",
              "75%        1.0        0.0             1.0\n",
              "max        1.0        5.0             4.0"
            ]
          },
          "metadata": {
            "tags": []
          },
          "execution_count": 30
        }
      ]
    },
    {
      "cell_type": "code",
      "metadata": {
        "id": "HVh5oPKtKy8L",
        "colab_type": "code",
        "outputId": "74371cb1-f24b-4bb1-ed7b-e142575f3445",
        "colab": {
          "base_uri": "https://localhost:8080/",
          "height": 295
        }
      },
      "source": [
        "sse={}\n",
        "for k in range(1, 21):\n",
        "    kmeans = KMeans(n_clusters=k, random_state=1)\n",
        "    kmeans.fit(rfm_normalized)\n",
        "    sse[k] = kmeans.inertia_ \n",
        "\n",
        "sns.pointplot(x=list(sse.keys()), y=list(sse.values()))\n",
        "plt.title('The Elbow Method')\n",
        "plt.xlabel('k')\n",
        "plt.ylabel('SSE')\n",
        "plt.show()"
      ],
      "execution_count": 31,
      "outputs": [
        {
          "output_type": "display_data",
          "data": {
            "image/png": "[encoded data removed]",
            "text/plain": [
              "<Figure size 432x288 with 1 Axes>"
            ]
          },
          "metadata": {
            "tags": []
          }
        }
      ]
    },
    {
      "cell_type": "code",
      "metadata": {
        "id": "lSUoLw1beMOW",
        "colab_type": "code",
        "colab": {}
      },
      "source": [
        "def slope(x1, y1, x2, y2):\n",
        "  m = 0\n",
        "  b = (x2 - x1)\n",
        "  d = (y2 - y1)\n",
        "  if b != 0:\n",
        "    m = (d)/(b) \n",
        "  return m"
      ],
      "execution_count": 0,
      "outputs": []
    },
    {
      "cell_type": "code",
      "metadata": {
        "id": "7MOVW_OsdMBo",
        "colab_type": "code",
        "outputId": "7d126ebf-ce43-4381-96e2-ca04b3f174df",
        "colab": {
          "base_uri": "https://localhost:8080/",
          "height": 35
        }
      },
      "source": [
        "previous_slope = slope(1, sse[1], 2, sse[2])\n",
        "break_point = -previous_slope / 5\n",
        "for i in range(2, len(sse)-1):\n",
        "  current_slope = slope(i, sse[i], i+1, sse[i+1])\n",
        "  if (current_slope - previous_slope < break_point):\n",
        "    print(i+1)\n",
        "    break\n",
        "  previous_slope = current_slope"
      ],
      "execution_count": 33,
      "outputs": [
        {
          "output_type": "stream",
          "text": [
            "5\n"
          ],
          "name": "stdout"
        }
      ]
    },
    {
      "cell_type": "code",
      "metadata": {
        "id": "IUNitexyrx9A",
        "colab_type": "code",
        "outputId": "6b4d9638-0f64-466a-fc55-3174817e8a8a",
        "colab": {
          "base_uri": "https://localhost:8080/",
          "height": 237
        }
      },
      "source": [
        "kmeans = KMeans(n_clusters=5, random_state=1) \n",
        "kmeans.fit(rfm_normalized)\n",
        "cluster_labels = kmeans.labels_\n",
        "\n",
        "# Assigning Cluster Labels to Raw Data\n",
        "# Create a DataFrame by adding a new cluster label column\n",
        "rfm_table = rfm_table.assign(Cluster=cluster_labels)\n",
        "rfm_table.head()"
      ],
      "execution_count": 34,
      "outputs": [
        {
          "output_type": "execute_result",
          "data": {
            "text/html": [
              "<div>\n",
              "<style scoped>\n",
              "    .dataframe tbody tr th:only-of-type {\n",
              "        vertical-align: middle;\n",
              "    }\n",
              "\n",
              "    .dataframe tbody tr th {\n",
              "        vertical-align: top;\n",
              "    }\n",
              "\n",
              "    .dataframe thead th {\n",
              "        text-align: right;\n",
              "    }\n",
              "</style>\n",
              "<table border=\"1\" class=\"dataframe\">\n",
              "  <thead>\n",
              "    <tr style=\"text-align: right;\">\n",
              "      <th></th>\n",
              "      <th>recency</th>\n",
              "      <th>frequency</th>\n",
              "      <th>monetary_value</th>\n",
              "      <th>R_Quartile</th>\n",
              "      <th>F_Quartile</th>\n",
              "      <th>M_Quartile</th>\n",
              "      <th>RFM_score</th>\n",
              "      <th>customer_grade</th>\n",
              "      <th>Cluster</th>\n",
              "    </tr>\n",
              "    <tr>\n",
              "      <th>CUSTOMERNAME</th>\n",
              "      <th></th>\n",
              "      <th></th>\n",
              "      <th></th>\n",
              "      <th></th>\n",
              "      <th></th>\n",
              "      <th></th>\n",
              "      <th></th>\n",
              "      <th></th>\n",
              "      <th></th>\n",
              "    </tr>\n",
              "  </thead>\n",
              "  <tbody>\n",
              "    <tr>\n",
              "      <th>AV Stores, Co.</th>\n",
              "      <td>195</td>\n",
              "      <td>3</td>\n",
              "      <td>157807.81</td>\n",
              "      <td>3</td>\n",
              "      <td>3</td>\n",
              "      <td>1</td>\n",
              "      <td>7</td>\n",
              "      <td>B</td>\n",
              "      <td>1</td>\n",
              "    </tr>\n",
              "    <tr>\n",
              "      <th>Alpha Cognac</th>\n",
              "      <td>64</td>\n",
              "      <td>3</td>\n",
              "      <td>70488.44</td>\n",
              "      <td>1</td>\n",
              "      <td>3</td>\n",
              "      <td>3</td>\n",
              "      <td>7</td>\n",
              "      <td>B</td>\n",
              "      <td>1</td>\n",
              "    </tr>\n",
              "    <tr>\n",
              "      <th>Amica Models &amp; Co.</th>\n",
              "      <td>264</td>\n",
              "      <td>2</td>\n",
              "      <td>94117.26</td>\n",
              "      <td>4</td>\n",
              "      <td>4</td>\n",
              "      <td>2</td>\n",
              "      <td>10</td>\n",
              "      <td>C</td>\n",
              "      <td>0</td>\n",
              "    </tr>\n",
              "    <tr>\n",
              "      <th>Anna's Decorations, Ltd</th>\n",
              "      <td>83</td>\n",
              "      <td>4</td>\n",
              "      <td>153996.13</td>\n",
              "      <td>2</td>\n",
              "      <td>1</td>\n",
              "      <td>1</td>\n",
              "      <td>4</td>\n",
              "      <td>A</td>\n",
              "      <td>1</td>\n",
              "    </tr>\n",
              "    <tr>\n",
              "      <th>Atelier graphique</th>\n",
              "      <td>187</td>\n",
              "      <td>3</td>\n",
              "      <td>24179.96</td>\n",
              "      <td>3</td>\n",
              "      <td>3</td>\n",
              "      <td>4</td>\n",
              "      <td>10</td>\n",
              "      <td>C</td>\n",
              "      <td>4</td>\n",
              "    </tr>\n",
              "  </tbody>\n",
              "</table>\n",
              "</div>"
            ],
            "text/plain": [
              "                         recency  frequency  monetary_value  R_Quartile  \\\n",
              "CUSTOMERNAME                                                              \n",
              "AV Stores, Co.               195          3       157807.81           3   \n",
              "Alpha Cognac                  64          3        70488.44           1   \n",
              "Amica Models & Co.           264          2        94117.26           4   \n",
              "Anna's Decorations, Ltd       83          4       153996.13           2   \n",
              "Atelier graphique            187          3        24179.96           3   \n",
              "\n",
              "                         F_Quartile  M_Quartile  RFM_score customer_grade  \\\n",
              "CUSTOMERNAME                                                                \n",
              "AV Stores, Co.                    3           1          7              B   \n",
              "Alpha Cognac                      3           3          7              B   \n",
              "Amica Models & Co.                4           2         10              C   \n",
              "Anna's Decorations, Ltd           1           1          4              A   \n",
              "Atelier graphique                 3           4         10              C   \n",
              "\n",
              "                         Cluster  \n",
              "CUSTOMERNAME                      \n",
              "AV Stores, Co.                 1  \n",
              "Alpha Cognac                   1  \n",
              "Amica Models & Co.             0  \n",
              "Anna's Decorations, Ltd        1  \n",
              "Atelier graphique              4  "
            ]
          },
          "metadata": {
            "tags": []
          },
          "execution_count": 34
        }
      ]
    },
    {
      "cell_type": "code",
      "metadata": {
        "id": "TITiiO7FvJ1g",
        "colab_type": "code",
        "outputId": "d5ed0a3f-7106-4003-e12a-01d98f7ea339",
        "colab": {
          "base_uri": "https://localhost:8080/",
          "height": 269
        }
      },
      "source": [
        "grouped = rfm_table.groupby(['Cluster'])\n",
        "\n",
        "# Calculate average RFM values and segment sizes per cluster value\n",
        "grouped.agg({\n",
        "    'recency': 'mean',\n",
        "    'frequency': 'mean',\n",
        "    'monetary_value': ['mean', 'count']\n",
        "  }).round(1)"
      ],
      "execution_count": 35,
      "outputs": [
        {
          "output_type": "execute_result",
          "data": {
            "text/html": [
              "<div>\n",
              "<style scoped>\n",
              "    .dataframe tbody tr th:only-of-type {\n",
              "        vertical-align: middle;\n",
              "    }\n",
              "\n",
              "    .dataframe tbody tr th {\n",
              "        vertical-align: top;\n",
              "    }\n",
              "\n",
              "    .dataframe thead tr th {\n",
              "        text-align: left;\n",
              "    }\n",
              "\n",
              "    .dataframe thead tr:last-of-type th {\n",
              "        text-align: right;\n",
              "    }\n",
              "</style>\n",
              "<table border=\"1\" class=\"dataframe\">\n",
              "  <thead>\n",
              "    <tr>\n",
              "      <th></th>\n",
              "      <th>recency</th>\n",
              "      <th>frequency</th>\n",
              "      <th colspan=\"2\" halign=\"left\">monetary_value</th>\n",
              "    </tr>\n",
              "    <tr>\n",
              "      <th></th>\n",
              "      <th>mean</th>\n",
              "      <th>mean</th>\n",
              "      <th>mean</th>\n",
              "      <th>count</th>\n",
              "    </tr>\n",
              "    <tr>\n",
              "      <th>Cluster</th>\n",
              "      <th></th>\n",
              "      <th></th>\n",
              "      <th></th>\n",
              "      <th></th>\n",
              "    </tr>\n",
              "  </thead>\n",
              "  <tbody>\n",
              "    <tr>\n",
              "      <th>0</th>\n",
              "      <td>315.2</td>\n",
              "      <td>2.0</td>\n",
              "      <td>73459.8</td>\n",
              "      <td>25</td>\n",
              "    </tr>\n",
              "    <tr>\n",
              "      <th>1</th>\n",
              "      <td>129.7</td>\n",
              "      <td>3.4</td>\n",
              "      <td>110691.1</td>\n",
              "      <td>53</td>\n",
              "    </tr>\n",
              "    <tr>\n",
              "      <th>2</th>\n",
              "      <td>1.0</td>\n",
              "      <td>21.5</td>\n",
              "      <td>783576.1</td>\n",
              "      <td>2</td>\n",
              "    </tr>\n",
              "    <tr>\n",
              "      <th>3</th>\n",
              "      <td>1.0</td>\n",
              "      <td>3.8</td>\n",
              "      <td>132201.6</td>\n",
              "      <td>4</td>\n",
              "    </tr>\n",
              "    <tr>\n",
              "      <th>4</th>\n",
              "      <td>246.1</td>\n",
              "      <td>2.4</td>\n",
              "      <td>29193.8</td>\n",
              "      <td>8</td>\n",
              "    </tr>\n",
              "  </tbody>\n",
              "</table>\n",
              "</div>"
            ],
            "text/plain": [
              "        recency frequency monetary_value      \n",
              "           mean      mean           mean count\n",
              "Cluster                                       \n",
              "0         315.2       2.0        73459.8    25\n",
              "1         129.7       3.4       110691.1    53\n",
              "2           1.0      21.5       783576.1     2\n",
              "3           1.0       3.8       132201.6     4\n",
              "4         246.1       2.4        29193.8     8"
            ]
          },
          "metadata": {
            "tags": []
          },
          "execution_count": 35
        }
      ]
    },
    {
      "cell_type": "code",
      "metadata": {
        "id": "FCOkWlfwxdlJ",
        "colab_type": "code",
        "outputId": "6d379562-8213-4da8-8a49-5039abbbbd19",
        "colab": {
          "base_uri": "https://localhost:8080/",
          "height": 296
        }
      },
      "source": [
        "rfm_melt = pd.melt(rfm_table.reset_index(), id_vars=['CUSTOMERNAME', 'Cluster'],\n",
        "                   value_vars=['recency', 'frequency', 'monetary_value'], \n",
        "                   var_name='Metric', value_name='Value')\n",
        "\n",
        "sns.lineplot(data=rfm_melt, x='Metric', y='Value', hue='Cluster')\n",
        "plt.title('Snake plot of normalized variables')\n",
        "plt.xlabel('Metric')\n",
        "plt.ylabel('Value')\n",
        "plt.show()"
      ],
      "execution_count": 36,
      "outputs": [
        {
          "output_type": "display_data",
          "data": {
            "image/png": "[encoded data removed]",
            "text/plain": [
              "<Figure size 432x288 with 1 Axes>"
            ]
          },
          "metadata": {
            "tags": []
          }
        }
      ]
    },
    {
      "cell_type": "code",
      "metadata": {
        "id": "ZxBqjEAkzKSg",
        "colab_type": "code",
        "outputId": "1379ed59-8907-4730-a69d-5e0bd7772065",
        "colab": {
          "base_uri": "https://localhost:8080/",
          "height": 296
        }
      },
      "source": [
        "rfm_melt = pd.melt(rfm_table.reset_index(), id_vars=['CUSTOMERNAME', 'customer_grade'],\n",
        "                   value_vars=['recency', 'frequency', 'monetary_value'], \n",
        "                   var_name='Metric', value_name='Value')\n",
        "\n",
        "sns.lineplot(data=rfm_melt, x='Metric', y='Value', hue='customer_grade')\n",
        "plt.title('Snake plot of normalized variables')\n",
        "plt.xlabel('Metric')\n",
        "plt.ylabel('Value')\n",
        "plt.show()"
      ],
      "execution_count": 37,
      "outputs": [
        {
          "output_type": "display_data",
          "data": {
            "image/png": "[encoded data removed]",
            "text/plain": [
              "<Figure size 432x288 with 1 Axes>"
            ]
          },
          "metadata": {
            "tags": []
          }
        }
      ]
    },
    {
      "cell_type": "code",
      "metadata": {
        "id": "eichPNo04ov8",
        "colab_type": "code",
        "outputId": "ffb7f985-9efc-4cc4-a6fb-a49d15cb4f6b",
        "colab": {
          "base_uri": "https://localhost:8080/",
          "height": 282
        }
      },
      "source": [
        "# the mean value in total \n",
        "total_avg = rfm_table.iloc[:, 0:3].mean()\n",
        "cluster_avg = rfm_table.groupby('customer_grade').mean().iloc[:, 0:3]\n",
        "prop_rfm = cluster_avg/total_avg - 1# heatmap with RFM\n",
        "sns.heatmap(prop_rfm, cmap= 'Oranges', fmt= '.2f', annot = True)\n",
        "plt.title('Heatmap of RFM quantile')\n",
        "plt.show()"
      ],
      "execution_count": 38,
      "outputs": [
        {
          "output_type": "display_data",
          "data": {
            "image/png": "[encoded data removed]",
            "text/plain": [
              "<Figure size 432x288 with 2 Axes>"
            ]
          },
          "metadata": {
            "tags": []
          }
        }
      ]
    },
    {
      "cell_type": "code",
      "metadata": {
        "id": "ClM2m3A47W05",
        "colab_type": "code",
        "outputId": "8fd3540e-3923-47b4-c2a5-75cf59cf7a1b",
        "colab": {
          "base_uri": "https://localhost:8080/",
          "height": 282
        }
      },
      "source": [
        "# calculate the proportional gap with total mean\n",
        "cluster_avg_K = rfm_table.groupby('Cluster').mean().iloc[:, 0:3]\n",
        "prop_rfm_K = cluster_avg_K/total_avg - 1# heatmap with K-means\n",
        "sns.heatmap(prop_rfm_K, cmap= 'Oranges', fmt= '.2f', annot = True)\n",
        "plt.title('Heatmap of K-Means')\n",
        "plt.show()"
      ],
      "execution_count": 39,
      "outputs": [
        {
          "output_type": "display_data",
          "data": {
            "image/png": "[encoded data removed]",
            "text/plain": [
              "<Figure size 432x288 with 2 Axes>"
            ]
          },
          "metadata": {
            "tags": []
          }
        }
      ]
    },
    {
      "cell_type": "code",
      "metadata": {
        "id": "VZ6oruoJ8dyI",
        "colab_type": "code",
        "colab": {
          "base_uri": "https://localhost:8080/",
          "height": 237
        },
        "outputId": "6251d545-8aa5-4764-8a61-11a18d1a841c"
      },
      "source": [
        "rfm_table.head()"
      ],
      "execution_count": 40,
      "outputs": [
        {
          "output_type": "execute_result",
          "data": {
            "text/html": [
              "<div>\n",
              "<style scoped>\n",
              "    .dataframe tbody tr th:only-of-type {\n",
              "        vertical-align: middle;\n",
              "    }\n",
              "\n",
              "    .dataframe tbody tr th {\n",
              "        vertical-align: top;\n",
              "    }\n",
              "\n",
              "    .dataframe thead th {\n",
              "        text-align: right;\n",
              "    }\n",
              "</style>\n",
              "<table border=\"1\" class=\"dataframe\">\n",
              "  <thead>\n",
              "    <tr style=\"text-align: right;\">\n",
              "      <th></th>\n",
              "      <th>recency</th>\n",
              "      <th>frequency</th>\n",
              "      <th>monetary_value</th>\n",
              "      <th>R_Quartile</th>\n",
              "      <th>F_Quartile</th>\n",
              "      <th>M_Quartile</th>\n",
              "      <th>RFM_score</th>\n",
              "      <th>customer_grade</th>\n",
              "      <th>Cluster</th>\n",
              "    </tr>\n",
              "    <tr>\n",
              "      <th>CUSTOMERNAME</th>\n",
              "      <th></th>\n",
              "      <th></th>\n",
              "      <th></th>\n",
              "      <th></th>\n",
              "      <th></th>\n",
              "      <th></th>\n",
              "      <th></th>\n",
              "      <th></th>\n",
              "      <th></th>\n",
              "    </tr>\n",
              "  </thead>\n",
              "  <tbody>\n",
              "    <tr>\n",
              "      <th>AV Stores, Co.</th>\n",
              "      <td>195</td>\n",
              "      <td>3</td>\n",
              "      <td>157807.81</td>\n",
              "      <td>3</td>\n",
              "      <td>3</td>\n",
              "      <td>1</td>\n",
              "      <td>7</td>\n",
              "      <td>B</td>\n",
              "      <td>1</td>\n",
              "    </tr>\n",
              "    <tr>\n",
              "      <th>Alpha Cognac</th>\n",
              "      <td>64</td>\n",
              "      <td>3</td>\n",
              "      <td>70488.44</td>\n",
              "      <td>1</td>\n",
              "      <td>3</td>\n",
              "      <td>3</td>\n",
              "      <td>7</td>\n",
              "      <td>B</td>\n",
              "      <td>1</td>\n",
              "    </tr>\n",
              "    <tr>\n",
              "      <th>Amica Models &amp; Co.</th>\n",
              "      <td>264</td>\n",
              "      <td>2</td>\n",
              "      <td>94117.26</td>\n",
              "      <td>4</td>\n",
              "      <td>4</td>\n",
              "      <td>2</td>\n",
              "      <td>10</td>\n",
              "      <td>C</td>\n",
              "      <td>0</td>\n",
              "    </tr>\n",
              "    <tr>\n",
              "      <th>Anna's Decorations, Ltd</th>\n",
              "      <td>83</td>\n",
              "      <td>4</td>\n",
              "      <td>153996.13</td>\n",
              "      <td>2</td>\n",
              "      <td>1</td>\n",
              "      <td>1</td>\n",
              "      <td>4</td>\n",
              "      <td>A</td>\n",
              "      <td>1</td>\n",
              "    </tr>\n",
              "    <tr>\n",
              "      <th>Atelier graphique</th>\n",
              "      <td>187</td>\n",
              "      <td>3</td>\n",
              "      <td>24179.96</td>\n",
              "      <td>3</td>\n",
              "      <td>3</td>\n",
              "      <td>4</td>\n",
              "      <td>10</td>\n",
              "      <td>C</td>\n",
              "      <td>4</td>\n",
              "    </tr>\n",
              "  </tbody>\n",
              "</table>\n",
              "</div>"
            ],
            "text/plain": [
              "                         recency  frequency  monetary_value  R_Quartile  \\\n",
              "CUSTOMERNAME                                                              \n",
              "AV Stores, Co.               195          3       157807.81           3   \n",
              "Alpha Cognac                  64          3        70488.44           1   \n",
              "Amica Models & Co.           264          2        94117.26           4   \n",
              "Anna's Decorations, Ltd       83          4       153996.13           2   \n",
              "Atelier graphique            187          3        24179.96           3   \n",
              "\n",
              "                         F_Quartile  M_Quartile  RFM_score customer_grade  \\\n",
              "CUSTOMERNAME                                                                \n",
              "AV Stores, Co.                    3           1          7              B   \n",
              "Alpha Cognac                      3           3          7              B   \n",
              "Amica Models & Co.                4           2         10              C   \n",
              "Anna's Decorations, Ltd           1           1          4              A   \n",
              "Atelier graphique                 3           4         10              C   \n",
              "\n",
              "                         Cluster  \n",
              "CUSTOMERNAME                      \n",
              "AV Stores, Co.                 1  \n",
              "Alpha Cognac                   1  \n",
              "Amica Models & Co.             0  \n",
              "Anna's Decorations, Ltd        1  \n",
              "Atelier graphique              4  "
            ]
          },
          "metadata": {
            "tags": []
          },
          "execution_count": 40
        }
      ]
    },
    {
      "cell_type": "code",
      "metadata": {
        "id": "iPWXEtZy2PKW",
        "colab_type": "code",
        "colab": {}
      },
      "source": [
        ""
      ],
      "execution_count": 0,
      "outputs": []
    }
  ]
}